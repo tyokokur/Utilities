{
 "cells": [
  {
   "cell_type": "code",
   "execution_count": null,
   "metadata": {
    "colab": {
     "base_uri": "https://localhost:8080/"
    },
    "id": "xXf4uZZ30I4M",
    "outputId": "b05c1549-f0af-46c0-9e1d-c765a27a5fec"
   },
   "outputs": [
    {
     "name": "stdout",
     "output_type": "stream",
     "text": [
      "Drive already mounted at /content/drive; to attempt to forcibly remount, call drive.mount(\"/content/drive\", force_remount=True).\n",
      "/content/drive/My Drive/Colab Notebooks/Results\n"
     ]
    }
   ],
   "source": [
    "from google.colab import drive\n",
    "drive.mount('/content/drive')\n",
    "\n",
    "# Colab command to navigate to the folder holding the homework,\n",
    "# CHANGE FOR YOUR SPECIFIC FOLDER LOCATION IN GOOGLE DRIVE\n",
    "# Note: if there are spaces in the path, you need to preceed them with a backslash '\\'\n",
    "%cd /content/drive/My\\ Drive/Colab\\ Notebooks/Results"
   ]
  },
  {
   "cell_type": "code",
   "execution_count": null,
   "metadata": {
    "id": "gRWzV_UxyMTo"
   },
   "outputs": [],
   "source": [
    "#@title\n",
    "import numpy as np, pandas as pd, matplotlib.pyplot as plt\n",
    "# from mpl_toolkits.axes_grid.inset_locator import (inset_axes, InsetPosition,\n",
    "#                                                   mark_inset)\n",
    "\n",
    "\n",
    "pd.set_option('display.max_columns', 500)\n",
    "pd.set_option('display.width', 1000)\n",
    "pd.set_option('display.max_colwidth', None)\n",
    "DISPLAY_SORTED = True"
   ]
  },
  {
   "cell_type": "code",
   "execution_count": null,
   "metadata": {
    "colab": {
     "base_uri": "https://localhost:8080/"
    },
    "id": "SBz0zgrBWjEn",
    "outputId": "a05dec8d-5557-4ac3-8a5f-8770cc68a3bd"
   },
   "outputs": [
    {
     "name": "stdout",
     "output_type": "stream",
     "text": [
      "63\n",
      "63\n",
      "3969\n"
     ]
    }
   ],
   "source": [
    "num = str(\"6285\") + str(\"_96\") + str(\"sph\")\n",
    "lx = 21 #*2\n",
    "ly = 21 #*2\n",
    "\n",
    "X_INNER = 20 #*2\n",
    "Y_INNER = 20 #*2\n",
    "  \n",
    "dx = 1.0/3.0\n",
    "dy = dx\n",
    "\n",
    "Nx = int(lx/dx)\n",
    "Ny = int(ly/dy)\n",
    " \n",
    "print(Nx)\n",
    "print(Ny)\n",
    "\n",
    "print(Nx*Ny)"
   ]
  },
  {
   "cell_type": "code",
   "execution_count": null,
   "metadata": {
    "colab": {
     "base_uri": "https://localhost:8080/"
    },
    "id": "epphqVTMAUsR",
    "outputId": "3bef0e33-5986-494b-f7ac-0f3b4f942f37"
   },
   "outputs": [
    {
     "name": "stdout",
     "output_type": "stream",
     "text": [
      "         rx      ry        el         1         2         3\n",
      "0      0.00   0.000  0.003998  0.058043  0.057580  0.000123\n",
      "1      0.00   0.333  0.003998  0.058043  0.057580  0.000123\n",
      "2      0.00   0.666  0.004439  0.058069  0.057555  0.000136\n",
      "3      0.00   0.999  0.005374  0.058123  0.057501  0.000162\n",
      "4      0.00   1.332  0.006915  0.058213  0.057413  0.000206\n",
      "...     ...     ...       ...       ...       ...       ...\n",
      "7771  26.64  30.300 -0.000000  0.057811  0.057811  0.000000\n",
      "7772  26.64  30.640 -0.000000  0.057811  0.057811  0.000000\n",
      "7773  26.64  30.970 -0.000000  0.057811  0.057811  0.000000\n",
      "7774  26.64  31.300 -0.000000  0.057811  0.057811  0.000000\n",
      "7775  26.64  31.640 -0.000000  0.057811  0.057811  0.000000\n",
      "\n",
      "[7776 rows x 6 columns]\n",
      "         rx      ry       phA       ph1       ph2       ph3       phB\n",
      "0      0.00   0.000  0.000670  0.000117  0.000437  0.000116  0.999329\n",
      "1      0.00   0.333  0.000670  0.000117  0.000437  0.000116  0.999329\n",
      "2      0.00   0.666  0.000736  0.000129  0.000478  0.000129  0.999262\n",
      "3      0.00   0.999  0.000879  0.000156  0.000567  0.000156  0.999119\n",
      "4      0.00   1.332  0.001122  0.000202  0.000718  0.000202  0.998876\n",
      "...     ...     ...       ...       ...       ...       ...       ...\n",
      "7771  26.64  30.300  0.000000  0.000000  0.000000  0.000000  1.000000\n",
      "7772  26.64  30.640  0.000000  0.000000  0.000000  0.000000  1.000000\n",
      "7773  26.64  30.970  0.000000  0.000000  0.000000  0.000000  1.000000\n",
      "7774  26.64  31.300  0.000000  0.000000  0.000000  0.000000  1.000000\n",
      "7775  26.64  31.640  0.000000  0.000000  0.000000  0.000000  1.000000\n",
      "\n",
      "[7776 rows x 7 columns]\n"
     ]
    }
   ],
   "source": [
    "#@title\n",
    "## PHA ELEC\n",
    "dfe = pd.read_csv(\"el\"+num+\".dat\",\n",
    "                 sep=\"\\s+\", \n",
    "                 skiprows=0, \n",
    "                 names=['rx','ry','el','1','2','3'])\n",
    "print(dfe)\n",
    "##PHA BLOCK\n",
    "df = pd.read_csv(\"ph\"+num+\".dat\",\n",
    "                 sep=\"\\s+\", \n",
    "                 skiprows=0, \n",
    "                 names=['rx','ry','phA', 'ph1', 'ph2', 'ph3', 'phB'])\n",
    "                 \n",
    "print(df)"
   ]
  },
  {
   "cell_type": "code",
   "execution_count": null,
   "metadata": {
    "id": "se5dkSo6uq68"
   },
   "outputs": [],
   "source": [
    "#@title\n",
    "rows = range(0, Nx)\n",
    "cols = range(0, Ny)\n",
    "\n",
    "el = pd.DataFrame(data=None, index=rows, columns=cols, dtype=None, copy=False)\n",
    "el = el.fillna(0) # with 0s rather than NaNs\n",
    "elr = pd.DataFrame(data=None, index=rows, columns=range(2), dtype=None, copy=False)\n",
    "elr = elr.fillna(0) # with 0s rather than NaNs\n",
    "elz = pd.DataFrame(data=None, index=cols, columns=range(2), dtype=None, copy=False)\n",
    "elz = elz.fillna(0) # with 0s rather than NaNs\n",
    "\n",
    "for i in rows:\n",
    "  for j in cols:\n",
    "    k = i*Ny + j\n",
    "    el.iloc[i, j] = dfe.iloc[k, 2]\n",
    "\n",
    "i = 0\n",
    "for j in cols:\n",
    "  k = i*Ny + j\n",
    "  elz.iloc[j, 0] = dfe.iloc[k, 1]\n",
    "  elz.iloc[j, 1] = dfe.iloc[k, 2]\n",
    "\n",
    "j = 0\n",
    "for i in rows:\n",
    "  k = i*Ny + j\n",
    "  elr.iloc[i, 0] = dfe.iloc[k, 0]\n",
    "  elr.iloc[i, 1] = dfe.iloc[k, 2]"
   ]
  },
  {
   "cell_type": "code",
   "execution_count": null,
   "metadata": {
    "id": "BHQdkHNEqZ3V"
   },
   "outputs": [],
   "source": [
    "#@title\n",
    "rows = range(0, Nx)\n",
    "cols = range(0, Ny)\n",
    "\n",
    "phA = pd.DataFrame(data=None, index=rows, columns=cols, dtype=None, copy=False)\n",
    "phA = phA.fillna(0) # with 0s rather than NaNs\n",
    "phAr = pd.DataFrame(data=None, index=rows, columns=range(2), dtype=None, copy=False)\n",
    "phAr = phAr.fillna(0) # with 0s rather than NaNs\n",
    "phAz = pd.DataFrame(data=None, index=cols, columns=range(2), dtype=None, copy=False)\n",
    "phAz = phAz.fillna(0) # with 0s rather than NaNs\n",
    "ph1 = pd.DataFrame(data=None, index=rows, columns=cols, dtype=None, copy=False)\n",
    "ph1 = ph1.fillna(0) # with 0s rather than NaNs\n",
    "ph1r = pd.DataFrame(data=None, index=rows, columns=range(2), dtype=None, copy=False)\n",
    "ph1r = ph1r.fillna(0) # with 0s rather than NaNs\n",
    "ph1z = pd.DataFrame(data=None, index=cols, columns=range(2), dtype=None, copy=False)\n",
    "ph1z = ph1z.fillna(0) # with 0s rather than NaNs\n",
    "ph2 = pd.DataFrame(data=None, index=rows, columns=cols, dtype=None, copy=False)\n",
    "ph2 = ph2.fillna(0) # with 0s rather than NaNs\n",
    "ph2r = pd.DataFrame(data=None, index=rows, columns=range(2), dtype=None, copy=False)\n",
    "ph2r = ph2r.fillna(0) # with 0s rather than NaNs\n",
    "ph2z = pd.DataFrame(data=None, index=cols, columns=range(2), dtype=None, copy=False)\n",
    "ph2z = ph2z.fillna(0) # with 0s rather than NaNs\n",
    "ph3 = pd.DataFrame(data=None, index=rows, columns=cols, dtype=None, copy=False)\n",
    "ph3 = ph3.fillna(0) # with 0s rather than NaNs\n",
    "ph3r = pd.DataFrame(data=None, index=rows, columns=range(2), dtype=None, copy=False)\n",
    "ph3r = ph3r.fillna(0) # with 0s rather than NaNs\n",
    "ph3z = pd.DataFrame(data=None, index=cols, columns=range(2), dtype=None, copy=False)\n",
    "ph3z = ph3z.fillna(0) # with 0s rather than NaNs\n",
    "\n",
    "phB = pd.DataFrame(data=None, index=rows, columns=cols, dtype=None, copy=False)\n",
    "phB = phB.fillna(0) # with 0s rather than NaNs\n",
    "\n",
    "for i in range(Nx):\n",
    "  for j in range(Ny):\n",
    "    k = i*Ny + j\n",
    "\n",
    "    phA.iloc[i, j] = df.iloc[k, 2]\n",
    "    ph1.iloc[i, j] = df.iloc[k, 3]\n",
    "    ph2.iloc[i, j] = df.iloc[k, 4]\n",
    "    ph3.iloc[i, j] = df.iloc[k, 5]\n",
    "    phB.iloc[i, j] = df.iloc[k, 6]\n",
    "\n",
    "j = 0\n",
    "for i in range(Nx):\n",
    "  k = i*Ny+j\n",
    "  phAr.iloc[i, 0] = df.iloc[k,0]\n",
    "  phAr.iloc[i, 1] = df.iloc[k,2]\n",
    "  ph1r.iloc[i, 0] = df.iloc[k,0]\n",
    "  ph1r.iloc[i, 1] = df.iloc[k,3]\n",
    "  ph2r.iloc[i, 0] = df.iloc[k,0]\n",
    "  ph2r.iloc[i, 1] = df.iloc[k,4]\n",
    "  ph3r.iloc[i, 0] = df.iloc[k,0]\n",
    "  ph3r.iloc[i, 1] = df.iloc[k,5]\n",
    "\n",
    "i = 0\n",
    "for j in range(Ny):\n",
    "  k = i*Ny+j\n",
    "  phAz.iloc[j, 0] = df.iloc[k,1]\n",
    "  phAz.iloc[j, 1] = df.iloc[k,2]\n",
    "  ph1z.iloc[j, 0] = df.iloc[k,1]\n",
    "  ph1z.iloc[j, 1] = df.iloc[k,3]\n",
    "  ph2z.iloc[j, 0] = df.iloc[k,1]\n",
    "  ph2z.iloc[j, 1] = df.iloc[k,4]\n",
    "  ph3z.iloc[j, 0] = df.iloc[k,1]\n",
    "  ph3z.iloc[j, 1] = df.iloc[k,5]"
   ]
  },
  {
   "cell_type": "code",
   "execution_count": null,
   "metadata": {
    "id": "3qxd2jLwzl2A"
   },
   "outputs": [],
   "source": [
    "#@title\n",
    "def heatmap(data, ax=None,\n",
    "            cbar_kw={}, cbarlabel=\"\", **kwargs):\n",
    "    \"\"\"\n",
    "    Create a heatmap from a numpy array and two lists of labels.\n",
    "\n",
    "    Parameters\n",
    "    ----------\n",
    "    data\n",
    "        A 2D numpy array of shape (N, M).\n",
    "    row_labels\n",
    "        A list or array of length N with the labels for the rows.\n",
    "    col_labels\n",
    "        A list or array of length M with the labels for the columns.\n",
    "    ax\n",
    "        A `matplotlib.axes.Axes` instance to which the heatmap is plotted.  If\n",
    "        not provided, use current axes or create a new one.  Optional.\n",
    "    cbar_kw\n",
    "        A dictionary with arguments to `matplotlib.Figure.colorbar`.  Optional.\n",
    "    cbarlabel\n",
    "        The label for the colorbar.  Optional.\n",
    "    **kwargs\n",
    "        All other arguments are forwarded to `imshow`.\n",
    "    \"\"\"\n",
    "\n",
    "    if not ax:\n",
    "        ax = plt.gca()\n",
    "\n",
    "    # Plot the heatmap\n",
    "    im = ax.imshow(data, **kwargs)\n",
    "\n",
    "    # Create colorbar\n",
    "    cbar = ax.figure.colorbar(im, ax=ax, **cbar_kw)\n",
    "    cbar.ax.set_ylabel(cbarlabel, rotation=-90, va=\"bottom\")\n",
    "    \n",
    "\n",
    "    # We want to show all ticks...\n",
    "    #ax.set_xticks(np.arange(data.shape[1]))\n",
    "    #ax.set_yticks(np.arange(data.shape[0]))\n",
    "    # ... and label them with the respective list entries.\n",
    "    #ax.set_xticklabels(col_labels)\n",
    "    #ax.set_yticklabels(row_labels)\n",
    "\n",
    "    # Let the horizontal axes labeling appear on top.\n",
    "    #ax.tick_params(top=True, bottom=False,\n",
    "                   #labeltop=True, labelbottom=False)\n",
    "\n",
    "    # Rotate the tick labels and set their alignment.\n",
    "    #plt.setp(ax.get_xticklabels(), rotation=-30, ha=\"right\",\n",
    "             #rotation_mode=\"anchor\")\n",
    "\n",
    "    # Turn spines off and create white grid.\n",
    "    #ax.spines[:].set_visible(False)\n",
    "\n",
    "    #ax.set_xticks(np.arange(data.shape[1]+1)-.5, minor=True)\n",
    "    #ax.set_yticks(np.arange(data.shape[0]+1)-.5, minor=True)\n",
    "    ax.grid(which=\"minor\", color=\"w\", linestyle='-', linewidth=3)\n",
    "    #ax.tick_params(which=\"minor\", bottom=False, left=False)\n",
    "\n",
    "    return im, cbar\n",
    "\n",
    "\n",
    "def annotate_heatmap(im, data=None, valfmt=\"{x:.2f}\",\n",
    "                     textcolors=(\"black\", \"white\"),\n",
    "                     threshold=None, **textkw):\n",
    "    \"\"\"\n",
    "    A function to annotate a heatmap.\n",
    "\n",
    "    Parameters\n",
    "    ----------\n",
    "    im\n",
    "        The AxesImage to be labeled.\n",
    "    data\n",
    "        Data used to annotate.  If None, the image's data is used.  Optional.\n",
    "    valfmt\n",
    "        The format of the annotations inside the heatmap.  This should either\n",
    "        use the string format method, e.g. \"$ {x:.2f}\", or be a\n",
    "        `matplotlib.ticker.Formatter`.  Optional.\n",
    "    textcolors\n",
    "        A pair of colors.  The first is used for values below a threshold,\n",
    "        the second for those above.  Optional.\n",
    "    threshold\n",
    "        Value in data units according to which the colors from textcolors are\n",
    "        applied.  If None (the default) uses the middle of the colormap as\n",
    "        separation.  Optional.\n",
    "    **kwargs\n",
    "        All other arguments are forwarded to each call to `text` used to create\n",
    "        the text labels.\n",
    "    \"\"\"\n",
    "\n",
    "    if not isinstance(data, (list, np.ndarray)):\n",
    "        data = im.get_array()\n",
    "\n",
    "    # Normalize the threshold to the images color range.\n",
    "    if threshold is not None:\n",
    "        threshold = im.norm(threshold)\n",
    "    else:\n",
    "        threshold = im.norm(data.max())/2.\n",
    "\n",
    "    # Set default alignment to center, but allow it to be\n",
    "    # overwritten by textkw.\n",
    "    kw = dict(horizontalalignment=\"center\",\n",
    "              verticalalignment=\"center\")\n",
    "    kw.update(textkw)\n",
    "\n",
    "    # Get the formatter in case a string is supplied\n",
    "    if isinstance(valfmt, str):\n",
    "        valfmt = matplotlib.ticker.StrMethodFormatter(valfmt)\n",
    "\n",
    "    # Loop over the data and create a `Text` for each \"pixel\".\n",
    "    # Change the text's color depending on the data.\n",
    "    texts = []\n",
    "    for i in range(data.shape[0]):\n",
    "        for j in range(data.shape[1]):\n",
    "            kw.update(color=textcolors[int(im.norm(data[i, j]) > threshold)])\n",
    "            text = im.axes.text(j, i, valfmt(data[i, j], None), **kw)\n",
    "            texts.append(text)\n",
    "\n",
    "    return texts"
   ]
  },
  {
   "cell_type": "code",
   "execution_count": null,
   "metadata": {
    "colab": {
     "base_uri": "https://localhost:8080/",
     "height": 315
    },
    "id": "LrtkAMXd-ZWQ",
    "outputId": "f97c3608-45d4-4d4c-c876-829043014ed5"
   },
   "outputs": [
    {
     "name": "stdout",
     "output_type": "stream",
     "text": [
      "60 60\n"
     ]
    },
    {
     "data": {
      "image/png": "[encoded data removed]",
      "text/plain": [
       "<Figure size 432x288 with 2 Axes>"
      ]
     },
     "metadata": {
      "needs_background": "light"
     },
     "output_type": "display_data"
    }
   ],
   "source": [
    "#@title\n",
    "dx = lx/Nx\n",
    "dy = ly/Ny\n",
    "\n",
    "Nx_b = round(X_INNER / dx)\n",
    "Ny_b = round(Y_INNER / dy)\n",
    "\n",
    "print(Nx_b, Ny_b)\n",
    "ph_new = pd.DataFrame(data = None, index = rows, columns = cols, dtype = None, copy = False)\n",
    "ph_new = ph_new.fillna(0)\n",
    "ph_new = phA + phB.multiply(-1)\n",
    "\n",
    "for i in range(0, Nx):\n",
    "  for j in range(0, Ny):\n",
    "    if (i == 0 and j < Ny_b) or (i == Nx_b and j < Ny_b): \n",
    "      ph_new.iloc[i, j] = 1\n",
    "      #ph_new.iloc[i+1, j] = 1\n",
    "    if (j == 0 and i < Nx_b) or (j == Ny_b and i < Nx_b): \n",
    "      ph_new.iloc[i, j] = 1\n",
    "      #ph_new.iloc[i, j+1] = 1\n",
    "#ph_new.iloc[Nx_b, Ny_b] = 1\n",
    "#ph_new.iloc[Nx_b+1, Ny_b] = 1\n",
    "#ph_new.iloc[Nx_b+1, Ny_b+1] = 1\n",
    "#ph_new.iloc[Nx_b, Ny_b+1] = 1\n",
    "\n",
    "fig, ax = plt.subplots()\n",
    "ax.axes.xaxis.set_visible(True)\n",
    "ax.axes.yaxis.set_visible(True)\n",
    "ax.set_title('phA - phB\\n (X_INNER : {:.2f}, Y_INNER : {:.2f})'.format(X_INNER, Y_INNER))\n",
    "ax.set_ylabel(\"i\")\n",
    "ax.set_xlabel(\"j\")\n",
    "\n",
    "im, cbar = heatmap(ph_new, ax = ax, cmap = 'bwr', vmin = -1.0, vmax = 1.0)\n",
    "\n",
    "cbar.ax.axes.yaxis.set_visible(True)\n",
    "\n",
    "fig.tight_layout()\n",
    "plt.gca().invert_yaxis()\n",
    "plt.show()\n"
   ]
  },
  {
   "cell_type": "code",
   "execution_count": null,
   "metadata": {
    "colab": {
     "base_uri": "https://localhost:8080/",
     "height": 612
    },
    "id": "bY9zkcYZzBLu",
    "outputId": "bf6869cc-b275-48be-c89c-be9b7a5b8706"
   },
   "outputs": [
    {
     "ename": "NameError",
     "evalue": "ignored",
     "output_type": "error",
     "traceback": [
      "\u001b[0;31m---------------------------------------------------------------------------\u001b[0m",
      "\u001b[0;31mNameError\u001b[0m                                 Traceback (most recent call last)",
      "\u001b[0;32m<ipython-input-31-b4e83561411c>\u001b[0m in \u001b[0;36m<module>\u001b[0;34m\u001b[0m\n\u001b[1;32m      4\u001b[0m \u001b[0mim\u001b[0m\u001b[0;34m,\u001b[0m \u001b[0mcbar\u001b[0m \u001b[0;34m=\u001b[0m \u001b[0mheatmap\u001b[0m\u001b[0;34m(\u001b[0m\u001b[0mphA\u001b[0m\u001b[0;34m,\u001b[0m \u001b[0max\u001b[0m\u001b[0;34m=\u001b[0m\u001b[0max\u001b[0m\u001b[0;34m[\u001b[0m\u001b[0;36m0\u001b[0m\u001b[0;34m]\u001b[0m\u001b[0;34m[\u001b[0m\u001b[0;36m0\u001b[0m\u001b[0;34m]\u001b[0m\u001b[0;34m,\u001b[0m \u001b[0mcmap\u001b[0m\u001b[0;34m=\u001b[0m\u001b[0;34m\"cool\"\u001b[0m\u001b[0;34m,\u001b[0m \u001b[0mvmin\u001b[0m \u001b[0;34m=\u001b[0m \u001b[0;36m0.0\u001b[0m\u001b[0;34m,\u001b[0m \u001b[0mvmax\u001b[0m \u001b[0;34m=\u001b[0m \u001b[0;36m1.0\u001b[0m\u001b[0;34m)\u001b[0m\u001b[0;34m\u001b[0m\u001b[0;34m\u001b[0m\u001b[0m\n\u001b[1;32m      5\u001b[0m \u001b[0;31m# ax00 = inset_axes(ax[0][0], width = '50%', height = '50%', loc='upper right', borderpad=2.0)\u001b[0m\u001b[0;34m\u001b[0m\u001b[0;34m\u001b[0m\u001b[0m\n\u001b[0;32m----> 6\u001b[0;31m \u001b[0max00\u001b[0m\u001b[0;34m.\u001b[0m\u001b[0mplot\u001b[0m\u001b[0;34m(\u001b[0m\u001b[0mphAr\u001b[0m\u001b[0;34m.\u001b[0m\u001b[0miloc\u001b[0m\u001b[0;34m[\u001b[0m\u001b[0;36m0\u001b[0m\u001b[0;34m:\u001b[0m\u001b[0mNx_b\u001b[0m\u001b[0;34m,\u001b[0m\u001b[0;36m0\u001b[0m\u001b[0;34m]\u001b[0m\u001b[0;34m,\u001b[0m\u001b[0mphAr\u001b[0m\u001b[0;34m.\u001b[0m\u001b[0miloc\u001b[0m\u001b[0;34m[\u001b[0m\u001b[0;36m0\u001b[0m\u001b[0;34m:\u001b[0m\u001b[0mNx_b\u001b[0m\u001b[0;34m,\u001b[0m\u001b[0;36m1\u001b[0m\u001b[0;34m]\u001b[0m\u001b[0;34m,\u001b[0m \u001b[0mmarker\u001b[0m \u001b[0;34m=\u001b[0m \u001b[0;34m'.'\u001b[0m\u001b[0;34m)\u001b[0m\u001b[0;34m\u001b[0m\u001b[0;34m\u001b[0m\u001b[0m\n\u001b[0m\u001b[1;32m      7\u001b[0m \u001b[0max00\u001b[0m\u001b[0;34m.\u001b[0m\u001b[0mset_xlim\u001b[0m\u001b[0;34m(\u001b[0m\u001b[0;34m[\u001b[0m\u001b[0;36m0.0\u001b[0m\u001b[0;34m,\u001b[0m \u001b[0mphAr\u001b[0m\u001b[0;34m.\u001b[0m\u001b[0miloc\u001b[0m\u001b[0;34m[\u001b[0m\u001b[0mNx_b\u001b[0m\u001b[0;34m,\u001b[0m\u001b[0;36m0\u001b[0m\u001b[0;34m]\u001b[0m\u001b[0;34m]\u001b[0m\u001b[0;34m)\u001b[0m\u001b[0;34m\u001b[0m\u001b[0;34m\u001b[0m\u001b[0m\n\u001b[1;32m      8\u001b[0m \u001b[0max00\u001b[0m\u001b[0;34m.\u001b[0m\u001b[0mset_ylim\u001b[0m\u001b[0;34m(\u001b[0m\u001b[0;34m[\u001b[0m\u001b[0;36m0.0\u001b[0m\u001b[0;34m,\u001b[0m\u001b[0;36m1.0\u001b[0m\u001b[0;34m]\u001b[0m\u001b[0;34m)\u001b[0m\u001b[0;34m\u001b[0m\u001b[0;34m\u001b[0m\u001b[0m\n",
      "\u001b[0;31mNameError\u001b[0m: name 'ax00' is not defined"
     ]
    },
    {
     "data": {
      "image/png": "[encoded data removed]",
      "text/plain": [
       "<Figure size 648x432 with 5 Axes>"
      ]
     },
     "metadata": {
      "needs_background": "light"
     },
     "output_type": "display_data"
    }
   ],
   "source": [
    "#@title\n",
    "fig, ax = plt.subplots(ncols = 2, nrows = 2, figsize = (9,6))\n",
    "ax[0][0].set_title(\"phA\")\n",
    "im, cbar = heatmap(phA, ax=ax[0][0], cmap=\"cool\", vmin = 0.0, vmax = 1.0)\n",
    "ax00 = ax[0][0].inset_axes([0.55, 0.55, 0.40, 0.40])\n",
    "ax00.plot(phAr.iloc[0:Nx_b,0],phAr.iloc[0:Nx_b,1], marker = '.')\n",
    "ax00.set_xlim([0.0, phAr.iloc[Nx_b,0]])\n",
    "ax00.set_ylim([0.0,1.0])\n",
    "ax00.set_title(\"phi(r,0)\")\n",
    "\n",
    "ax[0][1].set_title(\"ph1\")\n",
    "im, cbar = heatmap(ph1, ax=ax[0][1], cmap=\"cool\", vmin = 0.0, vmax = 1.0)\n",
    "ax01 = ax[0][1].inset_axes([0.55, 0.55, 0.40, 0.40])\n",
    "ax01.plot(ph1r.iloc[0:Nx_b,0],ph1r.iloc[0:Nx_b,1], marker = '.')\n",
    "ax01.set_xlim([0.0, ph1r.iloc[Nx_b,0]])\n",
    "ax01.set_ylim([0.0,1.0])\n",
    "ax01.set_title(\"phi(r,0)\")\n",
    "\n",
    "ax[1][0].set_title(\"ph2\")\n",
    "im, cbar = heatmap(ph2, ax=ax[1][0], cmap=\"cool\", vmin = 0.0, vmax = 1.0)\n",
    "ax10 = ax[1][0].inset_axes([0.55, 0.55, 0.40, 0.40])\n",
    "ax10.plot(ph2r.iloc[0:Nx_b,0],ph2r.iloc[0:Nx_b,1], marker = '.')\n",
    "ax10.set_ylim([0.0,1.0])\n",
    "ax10.set_xlim([0.0, ph2r.iloc[Nx_b,0]])\n",
    "ax10.set_title(\"phi(r,0)\")\n",
    "\n",
    "ax[1][1].set_title(\"ph3\")\n",
    "im, cbar = heatmap(ph3, ax=ax[1][1], cmap=\"cool\", vmin = 0.0, vmax = 1.0)\n",
    "ax11 = ax[1][1].inset_axes([0.55, 0.55, 0.40, 0.40])\n",
    "ax11.plot(ph3r.iloc[0:Nx_b,0],ph3r.iloc[0:Nx_b,1], marker = '.')\n",
    "ax11.set_ylim([0.0,1.0])\n",
    "ax11.set_xlim([0.0, ph3r.iloc[Nx_b,0]])\n",
    "ax11.set_title(\"phi(r,0)\")\n",
    "\n",
    "for i in range(2):\n",
    "  for j in range(2):\n",
    "    ax[i][j].axes.xaxis.set_visible(True)\n",
    "    ax[i][j].axes.yaxis.set_visible(True)\n",
    "    ax[i][j].set_ylabel(\"i\")\n",
    "    ax[i][j].set_xlabel(\"j\")\n",
    "    ax[i][j].invert_yaxis()\n",
    "\n",
    "cbar.ax.axes.yaxis.set_visible(True)\n",
    "plt.tight_layout(pad=0.4, w_pad=0.5, h_pad=2.0)\n",
    "plt.show()\n"
   ]
  },
  {
   "cell_type": "code",
   "execution_count": null,
   "metadata": {
    "cellView": "form",
    "colab": {
     "base_uri": "https://localhost:8080/",
     "height": 459
    },
    "id": "dNnsKNb2-Irb",
    "outputId": "a58b2538-b15f-4e0c-996a-6e2860bf6f1c"
   },
   "outputs": [
    {
     "name": "stdout",
     "output_type": "stream",
     "text": [
      "63 63\n"
     ]
    },
    {
     "data": {
      "image/png": "[encoded data removed]",
      "text/plain": [
       "<Figure size 864x432 with 4 Axes>"
      ]
     },
     "metadata": {
      "needs_background": "light"
     },
     "output_type": "display_data"
    }
   ],
   "source": [
    "#@title\n",
    "fig = plt.figure(figsize=(12,6))\n",
    "ax1 = plt.subplot2grid(shape=(2,3), loc=(0,0), rowspan=2, colspan=2)\n",
    "ax2 = plt.subplot2grid(shape=(2,3), loc=(0,2), rowspan=1, colspan=1)\n",
    "ax3 = plt.subplot2grid(shape=(2,3), loc=(1,2), rowspan=1, colspan=1)\n",
    "\n",
    "im, cbar = heatmap(el, ax=ax1, cmap=\"hot\", vmin = 0.0, vmax = None)\n",
    "cbar.ax.axes.yaxis.set_visible(True)\n",
    "ax1.invert_yaxis()\n",
    "ax1.set_title(\"psi(r,z)\")\n",
    "ax2.plot(elr.iloc[0:round(Nx-1),0],elr.iloc[0:Nx-1,1], marker = '.')\n",
    "ax2.set_ylim([0.0,None])\n",
    "ax2.set_xlim([0.0, elr.iloc[Nx-1,0]+1])\n",
    "ax2.set_title(\"psi(r,0)\")\n",
    "ax2.set_xlabel(\"r\")\n",
    "ax3.plot(elz.iloc[0:round(Ny-1),0],elz.iloc[0:Ny-1,1], marker = '.')\n",
    "ax3.set_ylim([0.0,None])\n",
    "ax3.set_xlim([0.0, elz.iloc[Ny-1,0]+1])\n",
    "ax3.set_title(\"psi(0,z)\")\n",
    "ax3.set_xlabel(\"z\")\n",
    "\n",
    "print(Nx, Ny)\n",
    "\n",
    "fig.tight_layout()\n",
    "plt.show()"
   ]
  },
  {
   "cell_type": "code",
   "execution_count": null,
   "metadata": {
    "colab": {
     "base_uri": "https://localhost:8080/"
    },
    "id": "2TdrLVWllpGx",
    "outputId": "897890b2-40f2-4075-b91b-410b30aa495b"
   },
   "outputs": [
    {
     "name": "stdout",
     "output_type": "stream",
     "text": [
      "15.379157878696946\n"
     ]
    }
   ],
   "source": [
    "Norm = 0\n",
    "T11 = 0\n",
    "T33 = 0\n",
    "rxdf = df.loc[:,\"rx\"]\n",
    "rydf = df.loc[:,\"ry\"]\n",
    "for i in range(Nx):\n",
    "  for j in range(Ny):\n",
    "    rx = rxdf.iloc[i*Ny+j]\n",
    "    ry = rydf.iloc[i*Ny+j]\n",
    "    Norm+=phA.iloc[i,j]*rx;\n",
    "    T11+=phA.iloc[i, j]*rx*rx*rx;\n",
    "    T33+=phA.iloc[i, j]*rx*ry*ry;\n",
    "\n",
    "T11/=(2.0*Norm);\n",
    "T33/=Norm;\n",
    "\n",
    "Rg_sq=2.0*T11+T33;\n",
    "Rg=np.sqrt(Rg_sq);\n",
    "print(Rg)"
   ]
  },
  {
   "cell_type": "code",
   "execution_count": null,
   "metadata": {
    "id": "eb3zIrl0h05a"
   },
   "outputs": [],
   "source": [
    "# #@title\n",
    "# f, [[ax1, ax2], [ax3, ax4]] = plt.subplots(nrows = 2, ncols = 2, figsize=(10,4))\n",
    "\n",
    "# #############Parent\n",
    "# df = pd.read_csv(\"W.dat\",\n",
    "#                  sep=\"\\s+\", \n",
    "#                  skiprows=0, \n",
    "#                  names=['w1','w2','w3', 'wb', 'eta', 'pot_elec'])\n",
    "# lx = 11\n",
    "# ly = 36\n",
    "# Nx = int(lx/dx)\n",
    "# Ny = int(ly/dy)\n",
    "# rows = range(0, Nx)\n",
    "# cols = range(0, Ny)\n",
    "\n",
    "# w1 = pd.DataFrame(data=None, index=rows, columns=cols, dtype=None, copy=False)\n",
    "# w1 = w1.fillna(0) # with 0s rather than NaNs\n",
    "# for i in range(Nx):\n",
    "#   for j in range(Ny):\n",
    "#     k = i*Ny+j\n",
    "#     w1.iloc[i,j] = df.iloc[k, 0]\n",
    "# #print(w1)\n",
    "\n",
    "# #fig, ax = plt.subplots()\n",
    "# ax1.axes.xaxis.set_visible(True)\n",
    "# ax1.axes.yaxis.set_visible(True)\n",
    "# ax1.set_title('Original')\n",
    "# ax1.set_ylabel(\"i\")\n",
    "# ax1.set_xlabel(\"j\")\n",
    "\n",
    "# im, cbar = heatmap(w1, ax = ax1, cmap = 'hot', vmin = 0.0, vmax = 1.0)\n",
    "\n",
    "# cbar.ax.axes.yaxis.set_visible(True)\n",
    "\n",
    "# ax1.invert_yaxis()\n",
    "# #plt.show()\n",
    "\n",
    "# ##########Converted (Z only)\n",
    "# Nx = 21 #new vals\n",
    "# Ny = 59 #new vals\n",
    "\n",
    "# df = pd.read_csv(\"W_pn0_\"+str(Nx)+\"_\"+str(Ny)+\".dat\",\n",
    "#                  sep=\"\\s+\", \n",
    "#                  skiprows=0,  \n",
    "#                  names=['w1','w2','w3', 'wb', 'eta', 'pot_elec'])\n",
    "\n",
    "\n",
    "# rows = range(0, Nx)\n",
    "# cols = range(0, Ny)\n",
    "\n",
    "# w1 = pd.DataFrame(data=None, index=rows, columns=cols, dtype=None, copy=False)\n",
    "# w1 = w1.fillna(0) # with 0s rather than NaNs\n",
    "# for i in range(Nx):\n",
    "#   for j in range(Ny):\n",
    "#     k = i*Ny+j\n",
    "#     w1.iloc[i,j] = df.iloc[k, 0]\n",
    "\n",
    "# #fig, ax = plt.subplots()\n",
    "# ax2.axes.xaxis.set_visible(True)\n",
    "# ax2.axes.yaxis.set_visible(True)\n",
    "# ax2.set_title('Z transform only')\n",
    "# ax2.set_ylabel(\"i\")\n",
    "# ax2.set_xlabel(\"j\")\n",
    "\n",
    "# im, cbar = heatmap(w1, ax = ax2, cmap = 'hot', vmin = 0.0, vmax = 1.0)\n",
    "\n",
    "# cbar.ax.axes.yaxis.set_visible(True)\n",
    "\n",
    "# ax2.invert_yaxis()\n",
    "\n",
    "# ##########Converted (R, Z)\n",
    "# Nx = 19 #new vals\n",
    "# Ny = 107 #new vals\n",
    "\n",
    "# df = pd.read_csv(\"W_pn0_\"+str(Nx)+\"_\"+str(Ny)+\".dat\",\n",
    "#                  sep=\"\\s+\", \n",
    "#                  skiprows=0,  \n",
    "#                  names=['w1','w2','w3', 'wb', 'eta', 'pot_elec'])\n",
    "\n",
    "# rows = range(0, Nx)\n",
    "# cols = range(0, Ny)\n",
    "\n",
    "# w1 = pd.DataFrame(data=None, index=rows, columns=cols, dtype=None, copy=False)\n",
    "# w1 = w1.fillna(0) # with 0s rather than NaNs\n",
    "# for i in range(Nx):\n",
    "#   for j in range(Ny):\n",
    "#     k = i*Ny+j\n",
    "#     w1.iloc[i,j] = df.iloc[k, 0]\n",
    "\n",
    "# #fig, ax = plt.subplots()\n",
    "# ax3.axes.xaxis.set_visible(True)\n",
    "# ax3.axes.yaxis.set_visible(True)\n",
    "# ax3.set_title('Full R, Z transform')\n",
    "# ax3.set_ylabel(\"i\")\n",
    "# ax3.set_xlabel(\"j\")\n",
    "\n",
    "# im, cbar = heatmap(w1, ax = ax3, cmap = 'hot', vmin = 0.0, vmax = 1.0)\n",
    "\n",
    "# cbar.ax.axes.yaxis.set_visible(True)\n",
    "\n",
    "# ax3.invert_yaxis()\n",
    "# #plt.show()\n",
    "\n",
    "\n",
    "# ################Final\n",
    "# df = pd.read_csv(\"W_pn0_31_87.dat\", #W_pn.dat\n",
    "#                  sep=\"\\s+\", \n",
    "#                  skiprows=0, \n",
    "#                  names=['w1','w2','w3', 'wb', 'eta', 'pot_elec'])\n",
    "# lx = 31/3#9\n",
    "# ly = 87/3#36\n",
    "# Nx = int(lx/dx)\n",
    "# Ny = int(ly/dy)\n",
    "# rows = range(0, Nx)\n",
    "# cols = range(0, Ny)\n",
    "\n",
    "# w1 = pd.DataFrame(data=None, index=rows, columns=cols, dtype=None, copy=False)\n",
    "# w1 = w1.fillna(0) # with 0s rather than NaNs\n",
    "# for i in range(Nx):\n",
    "#   for j in range(Ny):\n",
    "#     k = i*Ny+j\n",
    "#     w1.iloc[i,j] = df.iloc[k, 0]\n",
    "# #print(w1)\n",
    "\n",
    "# #fig, ax = plt.subplots()\n",
    "# ax4.axes.xaxis.set_visible(True)\n",
    "# ax4.axes.yaxis.set_visible(True)\n",
    "# ax4.set_title('Final')\n",
    "# ax4.set_ylabel(\"i\")\n",
    "# ax4.set_xlabel(\"j\")\n",
    "\n",
    "# im, cbar = heatmap(w1, ax = ax4, cmap = 'hot', vmin = 0.0, vmax = 1.0)\n",
    "\n",
    "# cbar.ax.axes.yaxis.set_visible(True)\n",
    "\n",
    "# f.tight_layout()\n",
    "# plt.gca().invert_yaxis()\n",
    "# plt.show()\n",
    "\n"
   ]
  }
 ],
 "metadata": {
  "colab": {
   "provenance": []
  },
  "kernelspec": {
   "display_name": "Python 3 (ipykernel)",
   "language": "python",
   "name": "python3"
  },
  "language_info": {
   "codemirror_mode": {
    "name": "ipython",
    "version": 3
   },
   "file_extension": ".py",
   "mimetype": "text/x-python",
   "name": "python",
   "nbconvert_exporter": "python",
   "pygments_lexer": "ipython3",
   "version": "3.10.7"
  }
 },
 "nbformat": 4,
 "nbformat_minor": 4
}
