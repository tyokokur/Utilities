{
 "cells": [
  {
   "cell_type": "code",
   "execution_count": 2,
   "id": "9180a034-e143-4430-bf21-d0e36c10d0d1",
   "metadata": {},
   "outputs": [],
   "source": [
    "import torch \n",
    "import math"
   ]
  },
  {
   "cell_type": "code",
   "execution_count": 9,
   "id": "b3f59560-a8cc-4ca8-b172-feada5847b27",
   "metadata": {},
   "outputs": [],
   "source": [
    "x = torch.linspace(-math.pi, math.pi, 2000)\n",
    "y = torch.sin(x)\n",
    "\n",
    "p = torch.tensor([1, 2, 3]) # Polynomial order\n",
    "xx = x.unsqueeze(-1).pow(p) # X vals before weights\n",
    "\n",
    "model = torch.nn.Sequential(\n",
    "    torch.nn.Linear(3, 1), # Weights for order p?\n",
    "    torch.nn.Flatten(0, 1) # ? \n",
    ")\n",
    "loss_fn = torch.nn.MSELoss(reduction='sum')"
   ]
  },
  {
   "cell_type": "code",
   "execution_count": 18,
   "id": "66e259ac-928c-456d-9e64-fedd8872953d",
   "metadata": {},
   "outputs": [
    {
     "name": "stdout",
     "output_type": "stream",
     "text": [
      "99 8.817176818847656\n",
      "199 8.817168235778809\n",
      "299 8.817167282104492\n",
      "399 8.817167282104492\n",
      "499 8.817169189453125\n",
      "599 8.817168235778809\n",
      "699 8.817168235778809\n",
      "799 8.817167282104492\n",
      "899 8.817168235778809\n",
      "999 8.817168235778809\n",
      "1099 8.817167282104492\n",
      "1199 8.817167282104492\n",
      "1299 8.817168235778809\n",
      "1399 8.817167282104492\n",
      "1499 8.817167282104492\n",
      "1599 8.817167282104492\n",
      "1699 8.817167282104492\n",
      "1799 8.817167282104492\n",
      "1899 8.817167282104492\n",
      "1999 8.817169189453125\n",
      "Result: y = -2.980587169076898e-06 + 0.8567398190498352 x + -2.9657271625183057e-06 xx^2 + -0.09333141148090363 x^3\n"
     ]
    }
   ],
   "source": [
    "learning_rate = 1e-03\n",
    "optimizer = torch.optim.Adam(model.parameters(), lr = learning_rate)\n",
    "for t in range(2000):\n",
    "    y_pred = model(xx)\n",
    "    \n",
    "    loss = loss_fn(y_pred, y)\n",
    "    if t % 100 == 99: \n",
    "        print(t, loss.item())\n",
    "        \n",
    "    optimizer.zero_grad()\n",
    "    \n",
    "    loss.backward()\n",
    "    optimizer.step()\n",
    "\n",
    "linear_layer = model[0]\n",
    "print(f'Result: y = {linear_layer.bias.item()} + {linear_layer.weight[:, 0].item()} x + {linear_layer.weight[:, 1].item()} xx^2 + {linear_layer.weight[:, 2].item()} x^3')"
   ]
  }
 ],
 "metadata": {
  "kernelspec": {
   "display_name": "Python 3 (ipykernel)",
   "language": "python",
   "name": "python3"
  },
  "language_info": {
   "codemirror_mode": {
    "name": "ipython",
    "version": 3
   },
   "file_extension": ".py",
   "mimetype": "text/x-python",
   "name": "python",
   "nbconvert_exporter": "python",
   "pygments_lexer": "ipython3",
   "version": "3.10.7"
  }
 },
 "nbformat": 4,
 "nbformat_minor": 5
}
