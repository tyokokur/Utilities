{
 "cells": [
  {
   "cell_type": "code",
   "execution_count": 1,
   "id": "7d6f8fe4-b73e-4dbc-a001-5c5abdd92581",
   "metadata": {},
   "outputs": [
    {
     "name": "stdout",
     "output_type": "stream",
     "text": [
      "Epoch 0, loss 0.22679325938224792\n",
      "Epoch 1000, loss 9.043332283908967e-06\n",
      "Epoch 2000, loss 7.0200917434704024e-06\n",
      "Epoch 3000, loss 7.1875047069625e-06\n",
      "Epoch 4000, loss 0.0005228905938565731\n",
      "Epoch 5000, loss 6.604368081752909e-06\n",
      "Epoch 6000, loss 2.7332005174685037e-06\n",
      "Epoch 7000, loss 2.0141662844253005e-06\n",
      "Epoch 8000, loss 1.4695489198857103e-06\n",
      "Epoch 9000, loss 3.090962127316743e-05\n"
     ]
    },
    {
     "name": "stderr",
     "output_type": "stream",
     "text": [
      "C:\\Users\\takas\\AppData\\Local\\Programs\\Python\\Python310\\lib\\site-packages\\torch\\functional.py:504: UserWarning: torch.meshgrid: in an upcoming release, it will be required to pass the indexing argument. (Triggered internally at ..\\aten\\src\\ATen\\native\\TensorShape.cpp:3484.)\n",
      "  return _VF.meshgrid(tensors, **kwargs)  # type: ignore[attr-defined]\n"
     ]
    },
    {
     "data": {
      "image/png": "[encoded data removed]",
      "text/plain": [
       "<Figure size 1000x500 with 2 Axes>"
      ]
     },
     "metadata": {},
     "output_type": "display_data"
    }
   ],
   "source": [
    "import torch\n",
    "import matplotlib.pyplot as plt\n",
    "from mpl_toolkits.mplot3d import Axes3D\n",
    "import numpy as np\n",
    "\n",
    "\n",
    "# Define the target function\n",
    "def target_function(x, y):\n",
    "    return x**2 - y**2\n",
    "\n",
    "\n",
    "# Define the neural network architecture\n",
    "class CurveFitter(torch.nn.Module):\n",
    "    def __init__(self):\n",
    "        super().__init__()\n",
    "        self.fc1 = torch.nn.Linear(2, 64)\n",
    "        self.fc2 = torch.nn.Linear(64, 64)\n",
    "        self.fc3 = torch.nn.Linear(64, 1)\n",
    "\n",
    "    def forward(self, x):\n",
    "        x = torch.relu(self.fc1(x))\n",
    "        x = torch.relu(self.fc2(x))\n",
    "        x = self.fc3(x)\n",
    "        return x\n",
    "\n",
    "\n",
    "# Define the function to train the model\n",
    "def train_model(model, train_input, train_target, num_epochs, optimizer, loss_fn):\n",
    "    for epoch in range(num_epochs):\n",
    "        optimizer.zero_grad()\n",
    "        output = model(train_input)\n",
    "        loss = loss_fn(output, train_target)\n",
    "        loss.backward()\n",
    "        optimizer.step()\n",
    "        if epoch % 1000 == 0:\n",
    "            print(f\"Epoch {epoch}, loss {loss.item()}\")\n",
    "\n",
    "\n",
    "# Generate training data\n",
    "train_input = torch.empty(1000, 2).uniform_(0, 1)\n",
    "train_target = target_function(train_input[:, 0], train_input[:, 1]).unsqueeze(1)\n",
    "\n",
    "# Define the model, loss function, and optimizer\n",
    "model = CurveFitter()\n",
    "loss_fn = torch.nn.MSELoss()\n",
    "optimizer = torch.optim.Adam(model.parameters(), lr=0.01)\n",
    "\n",
    "# Train the model\n",
    "train_model(model, train_input, train_target, 10000, optimizer, loss_fn)\n",
    "\n",
    "# Generate test input values\n",
    "x_test = torch.linspace(0, 1, 100)\n",
    "y_test = torch.linspace(0, 1, 100)\n",
    "X, Y = torch.meshgrid(x_test, y_test)\n",
    "\n",
    "# Compute curve predictions for test input values\n",
    "test_input = torch.stack([X.flatten(), Y.flatten()], axis=1)\n",
    "curve_predictions = model(test_input).detach().numpy().reshape(X.shape)\n",
    "\n",
    "# Plot the true curve and predicted curve\n",
    "fig = plt.figure(figsize=(10, 5))\n",
    "ax = fig.add_subplot(121)\n",
    "ax.contourf(X, Y, target_function(X, Y), levels=20, cmap='viridis')\n",
    "ax.set_title('True Curve')\n",
    "ax.set_xlabel('x')\n",
    "ax.set_ylabel('y')\n",
    "\n",
    "# Plot the predicted curve\n",
    "ax = fig.add_subplot(122)\n",
    "ax.contourf(X, Y, curve_predictions, levels=20, cmap='viridis')\n",
    "ax.set_title('Predicted Curve')\n",
    "ax.set_xlabel('x')\n",
    "ax.set_ylabel('y')\n",
    "\n",
    "# Show the plot\n",
    "plt.show()"
   ]
  },
  {
   "cell_type": "code",
   "execution_count": 2,
   "id": "9f4a5fe7-d560-4ae5-875c-152ccf8f37fe",
   "metadata": {},
   "outputs": [
    {
     "ename": "NameError",
     "evalue": "name 'num_iterations' is not defined",
     "output_type": "error",
     "traceback": [
      "\u001b[1;31m---------------------------------------------------------------------------\u001b[0m",
      "\u001b[1;31mNameError\u001b[0m                                 Traceback (most recent call last)",
      "Cell \u001b[1;32mIn [2], line 4\u001b[0m\n\u001b[0;32m      1\u001b[0m \u001b[38;5;66;03m# Set up the active learning loop\u001b[39;00m\n\u001b[0;32m      2\u001b[0m optimizer \u001b[38;5;241m=\u001b[39m torch\u001b[38;5;241m.\u001b[39moptim\u001b[38;5;241m.\u001b[39mAdam(model\u001b[38;5;241m.\u001b[39mparameters(), lr\u001b[38;5;241m=\u001b[39m\u001b[38;5;241m0.001\u001b[39m)\n\u001b[1;32m----> 4\u001b[0m \u001b[38;5;28;01mfor\u001b[39;00m i \u001b[38;5;129;01min\u001b[39;00m \u001b[38;5;28mrange\u001b[39m(num_iterations):\n\u001b[0;32m      5\u001b[0m     \u001b[38;5;66;03m# Select a subset of the unlabeled data\u001b[39;00m\n\u001b[0;32m      6\u001b[0m     query_indices \u001b[38;5;241m=\u001b[39m query_strategy(unlabeled_data, model, batch_size)\n\u001b[0;32m      7\u001b[0m     batch \u001b[38;5;241m=\u001b[39m unlabeled_data[query_indices]\n",
      "\u001b[1;31mNameError\u001b[0m: name 'num_iterations' is not defined"
     ]
    }
   ],
   "source": [
    "# Set up the active learning loop\n",
    "optimizer = torch.optim.Adam(model.parameters(), lr=0.001)\n",
    "\n",
    "for i in range(num_iterations):\n",
    "    # Select a subset of the unlabeled data\n",
    "    query_indices = query_strategy(unlabeled_data, model, batch_size)\n",
    "    batch = unlabeled_data[query_indices]\n",
    "    \n",
    "    # Get the inputs and targets for the batch\n",
    "    x, y = batch[:, 0], batch[:, 1]\n",
    "    z_true = torch.sin(2 * np.pi * x) * torch.sin(2 * np.pi * y)\n",
    "    \n",
    "    # Initialize the hidden state\n",
    "    hidden = None\n",
    "    \n",
    "    # Train the model on the batch\n",
    "    for t in range(num_steps):\n",
    "        # Get the output of the neural network\n",
    "        output, hidden = model(x, y, hidden)\n",
    "        \n",
    "        # Compute the loss and update the neural network weights\n",
    "        loss = F.mse_loss(output, z_true)\n",
    "        optimizer.zero_grad()\n",
    "        loss.backward()\n",
    "        optimizer.step()\n",
    "    \n",
    "    # Evaluate the model on the test data\n",
    "    test_loss = 0\n",
    "    with torch.no_grad():\n",
    "        for batch in test_data:\n",
    "            x, y = batch[:, 0], batch[:, 1]\n",
    "            z_true = torch.sin(2 * np.pi * x) * torch.sin(2 * np.pi * y)\n",
    "            output, _ = model(x, y, None)\n",
    "            test_loss += F.mse_loss(output, z_true, reduction='sum').item()\n",
    "    test_loss /= len(test_data)\n",
    "    \n",
    "    # Print the iteration number and test loss\n",
    "    print('Iteration %d: Test loss = %f' % (i, test_loss))\n",
    "    \n",
    "    # Select a subset of the labeled data to add to the training set\n",
    "    indices_to_add = data_selection_strategy(labeled_data, model, batch_size)\n",
    "    labeled_data = torch.cat([labeled_data, unlabeled_data[indices_to_add]])\n",
    "    unlabeled_data = torch.cat([unlabeled_data[:query_indices[0]], unlabeled_data[query_indices[-1]+1:]])\n"
   ]
  }
 ],
 "metadata": {
  "kernelspec": {
   "display_name": "Python 3 (ipykernel)",
   "language": "python",
   "name": "python3"
  },
  "language_info": {
   "codemirror_mode": {
    "name": "ipython",
    "version": 3
   },
   "file_extension": ".py",
   "mimetype": "text/x-python",
   "name": "python",
   "nbconvert_exporter": "python",
   "pygments_lexer": "ipython3",
   "version": "3.10.7"
  }
 },
 "nbformat": 4,
 "nbformat_minor": 5
}
