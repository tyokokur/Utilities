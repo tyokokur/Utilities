{
 "cells": [
  {
   "cell_type": "code",
   "execution_count": 2,
   "id": "9180a034-e143-4430-bf21-d0e36c10d0d1",
   "metadata": {},
   "outputs": [],
   "source": [
    "import torch \n",
    "import math"
   ]
  },
  {
   "cell_type": "code",
   "execution_count": 9,
   "id": "b3f59560-a8cc-4ca8-b172-feada5847b27",
   "metadata": {},
   "outputs": [],
   "source": [
    "x = torch.linspace(-math.pi, math.pi, 2000)\n",
    "y = torch.sin(x)\n",
    "\n",
    "p = torch.tensor([1, 2, 3]) # Polynomial order\n",
    "xx = x.unsqueeze(-1).pow(p) # X vals before weights\n",
    "\n",
    "model = torch.nn.Sequential(\n",
    "    torch.nn.Linear(3, 1), # Weights for order p?\n",
    "    torch.nn.Flatten(0, 1) # ? \n",
    ")\n",
    "loss_fn = torch.nn.MSELoss(reduction='sum')"
   ]
  },
  {
   "cell_type": "code",
   "execution_count": 14,
   "id": "66e259ac-928c-456d-9e64-fedd8872953d",
   "metadata": {},
   "outputs": [
    {
     "name": "stdout",
     "output_type": "stream",
     "text": [
      "99 149.72117614746094\n",
      "199 74.60148620605469\n",
      "299 37.8614387512207\n",
      "399 19.546300888061523\n",
      "499 11.581292152404785\n",
      "599 9.221049308776855\n",
      "699 8.92163372039795\n",
      "799 8.919583320617676\n",
      "899 8.90119743347168\n",
      "999 8.901711463928223\n",
      "1099 8.909024238586426\n",
      "1199 8.911714553833008\n",
      "1299 8.912036895751953\n",
      "1399 8.912121772766113\n",
      "1499 8.917753219604492\n",
      "1599 8.924635887145996\n",
      "1699 8.921676635742188\n",
      "1799 8.919417381286621\n",
      "1899 8.920443534851074\n",
      "1999 8.92129135131836\n",
      "Result: y = -0.0005094200605526567 + 0.8572409749031067 x + -0.0005094226216897368 xx^2 + -0.09283032268285751 x^3\n"
     ]
    }
   ],
   "source": [
    "learning_rate = 1e-03\n",
    "optimizer = torch.optim.RMSprop(model.parameters(), lr = learning_rate)\n",
    "for t in range(2000):\n",
    "    y_pred = model(xx)\n",
    "    \n",
    "    loss = loss_fn(y_pred, y)\n",
    "    if t % 100 == 99: \n",
    "        print(t, loss.item())\n",
    "        \n",
    "    optimizer.zero_grad()\n",
    "    \n",
    "    loss.backward()\n",
    "    optimizer.step()\n",
    "\n",
    "linear_layer = model[0]\n",
    "print(f'Result: y = {linear_layer.bias.item()} + {linear_layer.weight[:, 0].item()} x + {linear_layer.weight[:, 1].item()} xx^2 + {linear_layer.weight[:, 2].item()} x^3')"
   ]
  }
 ],
 "metadata": {
  "kernelspec": {
   "display_name": "Python 3 (ipykernel)",
   "language": "python",
   "name": "python3"
  },
  "language_info": {
   "codemirror_mode": {
    "name": "ipython",
    "version": 3
   },
   "file_extension": ".py",
   "mimetype": "text/x-python",
   "name": "python",
   "nbconvert_exporter": "python",
   "pygments_lexer": "ipython3",
   "version": "3.10.7"
  }
 },
 "nbformat": 4,
 "nbformat_minor": 5
}
