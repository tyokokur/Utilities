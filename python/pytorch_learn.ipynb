{
 "cells": [
  {
   "cell_type": "code",
   "execution_count": null,
   "id": "e8283a26-fc62-4088-9d72-05fbb19b8ce1",
   "metadata": {},
   "outputs": [
    {
     "name": "stdout",
     "output_type": "stream",
     "text": [
      "Epoch 1: Loss = 0.04015017279204244\n",
      "Epoch 11: Loss = 0.03464639659641762\n",
      "Epoch 21: Loss = 0.0012805492816585584\n",
      "Epoch 31: Loss = 0.013210092255523592\n",
      "Epoch 41: Loss = 0.043299610388192064\n",
      "Epoch 51: Loss = 0.02571420104091885\n",
      "Epoch 61: Loss = 0.03932392702670086\n",
      "Epoch 71: Loss = 0.05847036059611128\n",
      "Epoch 81: Loss = 0.08094457730432623\n",
      "Epoch 91: Loss = 0.015876468654690824\n"
     ]
    }
   ],
   "source": [
    "import numpy as np\n",
    "import torch\n",
    "import torch.nn as nn\n",
    "\n",
    "# Step 1: Generate Data\n",
    "x = np.arange(0, 1, 0.01)\n",
    "y = np.sin(2 * np.pi * x) + 0.001 * np.random.randn(len(x))\n",
    "\n",
    "# Step 2: Define your model\n",
    "class CurveFitter(nn.Module):\n",
    "    def __init__(self):\n",
    "        super(CurveFitter, self).__init__()\n",
    "        self.fc1 = nn.Linear(2, 10)\n",
    "        self.fc2 = nn.Linear(10, 10)\n",
    "        self.fc3 = nn.Linear(10, 1)\n",
    "\n",
    "    def forward(self, x):\n",
    "        x = nn.functional.relu(self.fc1(x))\n",
    "        x = nn.functional.relu(self.fc2(x))\n",
    "        x = self.fc3(x)\n",
    "        return x\n",
    "\n",
    "# Step 3: Define your loss function and optimizer\n",
    "model = CurveFitter()\n",
    "criterion = nn.MSELoss()\n",
    "optimizer = torch.optim.Adam(model.parameters(), lr=0.01)\n",
    "\n",
    "# Step 4: Train your model\n",
    "for epoch in range(100):\n",
    "    running_loss = 0.0\n",
    "    for i in range(len(x)):\n",
    "        inputs = torch.tensor([x[i], y[i]], dtype=torch.float32)\n",
    "        labels = torch.tensor([np.sin(2 * np.pi * x[i])], dtype=torch.float32)\n",
    "        \n",
    "        optimizer.zero_grad()\n",
    "        outputs = model(inputs)\n",
    "        loss = criterion(outputs, labels)\n",
    "        loss.backward()\n",
    "        optimizer.step()\n",
    "\n",
    "        running_loss += loss.item()\n",
    "    if epoch%10==0: print(f\"Epoch {epoch+1}: Loss = {running_loss/len(x)}\")\n",
    "\n",
    "# Step 5: Use your model to predict the curve values\n",
    "x_test = np.arange(0, 1, 0.01)\n",
    "y_test = np.arange(0, 1, 0.01)\n",
    "curve_predictions = []\n",
    "\n",
    "for i in range(len(x_test)):\n",
    "    for j in range(len(y_test)):\n",
    "        inputs = torch.tensor([x_test[i], y_test[j]], dtype=torch.float32)\n",
    "        prediction = model(inputs).item()\n",
    "        curve_predictions.append(prediction)\n",
    "\n",
    "curve_predictions = np.array(curve_predictions).reshape(len(x_test), len(y_test))\n",
    "\n",
    "# Plot the results\n",
    "import matplotlib.pyplot as plt\n",
    "\n",
    "fig = plt.figure(figsize=(8, 8))\n",
    "ax = fig.add_subplot(111, projection='3d')\n",
    "ax.plot_surface(x_test, y_test, curve_predictions, cmap='viridis')\n",
    "ax.set_xlabel('X')\n",
    "ax.set_ylabel('Y')\n",
    "ax.set_zlabel('Curve Value')\n",
    "plt.show()\n"
   ]
  },
  {
   "cell_type": "code",
   "execution_count": 43,
   "id": "8bbdfe6c-8ae1-4e5d-919b-421862a77c9f",
   "metadata": {},
   "outputs": [
    {
     "ename": "IndexError",
     "evalue": "index 49 is out of bounds for axis 1 with size 1",
     "output_type": "error",
     "traceback": [
      "\u001b[1;31m---------------------------------------------------------------------------\u001b[0m",
      "\u001b[1;31mIndexError\u001b[0m                                Traceback (most recent call last)",
      "Cell \u001b[1;32mIn [43], line 14\u001b[0m\n\u001b[0;32m      8\u001b[0m curve_predictions \u001b[38;5;241m=\u001b[39m model(torch\u001b[38;5;241m.\u001b[39mstack([x_test, y_test], axis\u001b[38;5;241m=\u001b[39m\u001b[38;5;241m1\u001b[39m))\u001b[38;5;241m.\u001b[39mdetach()\u001b[38;5;241m.\u001b[39mnumpy()\n\u001b[0;32m     10\u001b[0m \u001b[38;5;66;03m# Reshape curve_predictions into a grid\u001b[39;00m\n\u001b[0;32m     11\u001b[0m \u001b[38;5;66;03m# curve_predictions = curve_predictions.reshape((x_test.shape[0], y_test.shape[0]))\u001b[39;00m\n\u001b[0;32m     12\u001b[0m \n\u001b[0;32m     13\u001b[0m \u001b[38;5;66;03m# Extract the slice of the surface at z=0\u001b[39;00m\n\u001b[1;32m---> 14\u001b[0m z0_slice \u001b[38;5;241m=\u001b[39m curve_predictions[\u001b[38;5;241m.\u001b[39m\u001b[38;5;241m.\u001b[39m\u001b[38;5;241m.\u001b[39m, \u001b[38;5;241m49\u001b[39m]\n\u001b[0;32m     16\u001b[0m \u001b[38;5;66;03m# Plot the slice as a 2D heatmap\u001b[39;00m\n\u001b[0;32m     17\u001b[0m fig \u001b[38;5;241m=\u001b[39m plt\u001b[38;5;241m.\u001b[39mfigure(figsize\u001b[38;5;241m=\u001b[39m(\u001b[38;5;241m8\u001b[39m, \u001b[38;5;241m8\u001b[39m))\n",
      "\u001b[1;31mIndexError\u001b[0m: index 49 is out of bounds for axis 1 with size 1"
     ]
    }
   ],
   "source": [
    "import matplotlib.pyplot as plt\n",
    "\n",
    "# Generate test input values\n",
    "x_test = torch.linspace(0, 1, 100)\n",
    "y_test = torch.linspace(-1, 1, 100)\n",
    "\n",
    "# Compute curve predictions for test input values\n",
    "curve_predictions = model(torch.stack([x_test, y_test], axis=1)).detach().numpy()\n",
    "\n",
    "# Reshape curve_predictions into a grid\n",
    "# curve_predictions = curve_predictions.reshape((x_test.shape[0], y_test.shape[0]))\n",
    "\n",
    "# Extract the slice of the surface at z=0\n",
    "z0_slice = curve_predictions[..., 49]\n",
    "\n",
    "# Plot the slice as a 2D heatmap\n",
    "fig = plt.figure(figsize=(8, 8))\n",
    "ax = fig.add_subplot(111)\n",
    "ax.imshow(z0_slice, extent=[0, 1, -1, 1], cmap='viridis', origin='lower')\n",
    "ax.plot(x_test, np.sin(2*np.pi*x_test), label='True Curve', linestyle='--', color='white')\n",
    "ax.set_xlabel('X')\n",
    "ax.set_ylabel('Y')\n",
    "ax.legend()\n",
    "plt.show()\n"
   ]
  },
  {
   "cell_type": "code",
   "execution_count": 45,
   "id": "df8e6ee0-d364-4d1f-973c-82ba21feb0ce",
   "metadata": {},
   "outputs": [
    {
     "data": {
      "text/plain": [
       "100"
      ]
     },
     "execution_count": 45,
     "metadata": {},
     "output_type": "execute_result"
    }
   ],
   "source": [
    "len(curve_predictions)"
   ]
  }
 ],
 "metadata": {
  "kernelspec": {
   "display_name": "Python 3 (ipykernel)",
   "language": "python",
   "name": "python3"
  },
  "language_info": {
   "codemirror_mode": {
    "name": "ipython",
    "version": 3
   },
   "file_extension": ".py",
   "mimetype": "text/x-python",
   "name": "python",
   "nbconvert_exporter": "python",
   "pygments_lexer": "ipython3",
   "version": "3.10.7"
  }
 },
 "nbformat": 4,
 "nbformat_minor": 5
}
