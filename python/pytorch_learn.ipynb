{
 "cells": [
  {
   "cell_type": "code",
   "execution_count": 1,
   "id": "7d6f8fe4-b73e-4dbc-a001-5c5abdd92581",
   "metadata": {},
   "outputs": [
    {
     "ename": "NameError",
     "evalue": "name 'target_function' is not defined",
     "output_type": "error",
     "traceback": [
      "\u001b[1;31m---------------------------------------------------------------------------\u001b[0m",
      "\u001b[1;31mNameError\u001b[0m                                 Traceback (most recent call last)",
      "Cell \u001b[1;32mIn [1], line 36\u001b[0m\n\u001b[0;32m     34\u001b[0m \u001b[38;5;66;03m# Generate training data\u001b[39;00m\n\u001b[0;32m     35\u001b[0m train_input \u001b[38;5;241m=\u001b[39m torch\u001b[38;5;241m.\u001b[39mempty(\u001b[38;5;241m1000\u001b[39m, \u001b[38;5;241m2\u001b[39m)\u001b[38;5;241m.\u001b[39muniform_(\u001b[38;5;241m0\u001b[39m, \u001b[38;5;241m1\u001b[39m)\n\u001b[1;32m---> 36\u001b[0m train_target \u001b[38;5;241m=\u001b[39m target_function(train_input[:, \u001b[38;5;241m0\u001b[39m], train_input[:, \u001b[38;5;241m1\u001b[39m])\u001b[38;5;241m.\u001b[39munsqueeze(\u001b[38;5;241m1\u001b[39m)\n\u001b[0;32m     38\u001b[0m \u001b[38;5;66;03m# Define the model, loss function, and optimizer\u001b[39;00m\n\u001b[0;32m     39\u001b[0m model \u001b[38;5;241m=\u001b[39m CurveFitter()\n",
      "\u001b[1;31mNameError\u001b[0m: name 'target_function' is not defined"
     ]
    }
   ],
   "source": [
    "import torch\n",
    "import matplotlib.pyplot as plt\n",
    "from mpl_toolkits.mplot3d import Axes3D\n",
    "import numpy as np\n",
    "\n",
    "\n",
    "# Define the neural network architecture\n",
    "class CurveFitter(torch.nn.Module):\n",
    "    def __init__(self):\n",
    "        super().__init__()\n",
    "        self.fc1 = torch.nn.Linear(2, 64)\n",
    "        self.fc2 = torch.nn.Linear(64, 64)\n",
    "        self.fc3 = torch.nn.Linear(64, 1)\n",
    "\n",
    "    def forward(self, x):\n",
    "        x = torch.relu(self.fc1(x))\n",
    "        x = torch.relu(self.fc2(x))\n",
    "        x = self.fc3(x)\n",
    "        return x\n",
    "\n",
    "\n",
    "# Define the function to train the model\n",
    "def train_model(model, train_input, train_target, num_epochs, optimizer, loss_fn):\n",
    "    for epoch in range(num_epochs):\n",
    "        optimizer.zero_grad()\n",
    "        output = model(train_input)\n",
    "        loss = loss_fn(output, train_target)\n",
    "        loss.backward()\n",
    "        optimizer.step()\n",
    "        if epoch % 1000 == 0:\n",
    "            print(f\"Epoch {epoch}, loss {loss.item()}\")\n",
    "\n",
    "\n",
    "# Generate training data\n",
    "train_input = torch.empty(1000, 2).uniform_(0, 1)\n",
    "train_target = target_function(train_input[:, 0], train_input[:, 1]).unsqueeze(1)\n",
    "\n",
    "# Define the model, loss function, and optimizer\n",
    "model = CurveFitter()\n",
    "loss_fn = torch.nn.MSELoss()\n",
    "optimizer = torch.optim.Adam(model.parameters(), lr=0.01)\n",
    "\n",
    "# Train the model\n",
    "train_model(model, train_input, train_target, 10000, optimizer, loss_fn)\n",
    "\n",
    "# Generate test input values\n",
    "x_test = torch.linspace(0, 1, 100)\n",
    "y_test = torch.linspace(0, 1, 100)\n",
    "X, Y = torch.meshgrid(x_test, y_test)\n",
    "\n",
    "# Compute curve predictions for test input values\n",
    "test_input = torch.stack([X.flatten(), Y.flatten()], axis=1)\n",
    "curve_predictions = model(test_input).detach().numpy().reshape(X.shape)\n",
    "\n",
    "# Plot the true curve and predicted curve\n",
    "fig = plt.figure(figsize=(10, 5))\n",
    "ax = fig.add_subplot(121)\n",
    "ax.contourf(X, Y, target_function(X, Y), levels=20, cmap='viridis')\n",
    "ax.set_title('True Curve')\n",
    "ax.set_xlabel('x')\n",
    "ax.set_ylabel('y')\n",
    "\n",
    "# Plot the predicted curve\n",
    "ax = fig.add_subplot(122)\n",
    "ax.contourf(X, Y, curve_predictions, levels=20, cmap='viridis')\n",
    "ax.set_title('Predicted Curve')\n",
    "ax.set_xlabel('x')\n",
    "ax.set_ylabel('y')\n",
    "\n",
    "# Show the plot\n",
    "plt.show()"
   ]
  },
  {
   "cell_type": "code",
   "execution_count": 2,
   "id": "819e6102-05c6-45df-929e-7025891a2e60",
   "metadata": {},
   "outputs": [
    {
     "name": "stdout",
     "output_type": "stream",
     "text": [
      "Epoch 0, loss 0.16694118082523346\n",
      "Epoch 1000, loss 2.339545972063206e-05\n",
      "Epoch 2000, loss 4.016648290416924e-06\n",
      "Epoch 3000, loss 1.40846059366595e-05\n",
      "Epoch 4000, loss 2.0319014311098726e-06\n",
      "Epoch 5000, loss 3.7884678931732196e-06\n",
      "Epoch 6000, loss 3.38838458446844e-06\n",
      "Epoch 7000, loss 2.199775008193683e-05\n",
      "Epoch 8000, loss 1.30044156776421e-06\n",
      "Epoch 9000, loss 1.249366164302046e-06\n"
     ]
    },
    {
     "name": "stderr",
     "output_type": "stream",
     "text": [
      "C:\\Users\\takas\\AppData\\Local\\Programs\\Python\\Python310\\lib\\site-packages\\torch\\functional.py:504: UserWarning: torch.meshgrid: in an upcoming release, it will be required to pass the indexing argument. (Triggered internally at ..\\aten\\src\\ATen\\native\\TensorShape.cpp:3484.)\n",
      "  return _VF.meshgrid(tensors, **kwargs)  # type: ignore[attr-defined]\n"
     ]
    },
    {
     "data": {
      "image/png": "[encoded data removed]",
      "text/plain": [
       "<Figure size 1000x500 with 2 Axes>"
      ]
     },
     "metadata": {},
     "output_type": "display_data"
    }
   ],
   "source": [
    "import torch\n",
    "import matplotlib.pyplot as plt\n",
    "from mpl_toolkits.mplot3d import Axes3D\n",
    "import numpy as np\n",
    "\n",
    "\n",
    "# Define the target function\n",
    "def target_function(x, y):\n",
    "    return x**2 - y**3\n",
    "\n",
    "\n",
    "# Define the neural network architecture\n",
    "class CurveFitter(torch.nn.Module):\n",
    "    def __init__(self):\n",
    "        super().__init__()\n",
    "        self.fc1 = torch.nn.Linear(2, 64)\n",
    "        self.fc2 = torch.nn.Linear(64, 64)\n",
    "        self.fc3 = torch.nn.Linear(64, 1)\n",
    "\n",
    "    def forward(self, x):\n",
    "        x = torch.relu(self.fc1(x))\n",
    "        x = torch.relu(self.fc2(x))\n",
    "        x = self.fc3(x)\n",
    "        return x\n",
    "\n",
    "\n",
    "# Define the function to train the model\n",
    "def train_model(model, train_input, train_target, num_epochs, optimizer, loss_fn):\n",
    "    for epoch in range(num_epochs):\n",
    "        optimizer.zero_grad()\n",
    "        output = model(train_input)\n",
    "        loss = loss_fn(output, train_target)\n",
    "        loss.backward()\n",
    "        optimizer.step()\n",
    "        if epoch % 1000 == 0:\n",
    "            print(f\"Epoch {epoch}, loss {loss.item()}\")\n",
    "\n",
    "\n",
    "# Generate training data\n",
    "train_input = torch.empty(1000, 2).uniform_(0, 1)\n",
    "train_target = target_function(train_input[:, 0], train_input[:, 1]).unsqueeze(1)\n",
    "\n",
    "# Define the model, loss function, and optimizer\n",
    "model = CurveFitter()\n",
    "loss_fn = torch.nn.MSELoss()\n",
    "optimizer = torch.optim.Adam(model.parameters(), lr=0.01)\n",
    "\n",
    "# Train the model\n",
    "train_model(model, train_input, train_target, 10000, optimizer, loss_fn)\n",
    "\n",
    "# Generate test input values\n",
    "x_test = torch.linspace(0, 1, 100)\n",
    "y_test = torch.linspace(0, 1, 100)\n",
    "X, Y = torch.meshgrid(x_test, y_test)\n",
    "\n",
    "# Compute curve predictions for test input values\n",
    "test_input = torch.stack([X.flatten(), Y.flatten()], axis=1)\n",
    "curve_predictions = model(test_input).detach().numpy().reshape(X.shape)\n",
    "\n",
    "# Plot the true curve and predicted curve\n",
    "fig = plt.figure(figsize=(10, 5))\n",
    "ax = fig.add_subplot(121)\n",
    "ax.contourf(X, Y, target_function(X, Y), levels=20, cmap='viridis')\n",
    "ax.set_title('True Curve')\n",
    "ax.set_xlabel('x')\n",
    "ax.set_ylabel('y')\n",
    "\n",
    "# Plot the predicted curve\n",
    "ax = fig.add_subplot(122)\n",
    "ax.contourf(X, Y, curve_predictions, levels=20, cmap='viridis')\n",
    "ax.set_title('Predicted Curve')\n",
    "ax.set_xlabel('x')\n",
    "ax.set_ylabel('y')\n",
    "\n",
    "# Show the plot\n",
    "plt.show()"
   ]
  },
  {
   "cell_type": "code",
   "execution_count": 5,
   "id": "85c9ebf2-85d9-4bbd-bb4e-f570b93227ed",
   "metadata": {},
   "outputs": [
    {
     "data": {
      "text/plain": [
       "torch.Tensor"
      ]
     },
     "execution_count": 5,
     "metadata": {},
     "output_type": "execute_result"
    }
   ],
   "source": []
  }
 ],
 "metadata": {
  "kernelspec": {
   "display_name": "Python 3 (ipykernel)",
   "language": "python",
   "name": "python3"
  },
  "language_info": {
   "codemirror_mode": {
    "name": "ipython",
    "version": 3
   },
   "file_extension": ".py",
   "mimetype": "text/x-python",
   "name": "python",
   "nbconvert_exporter": "python",
   "pygments_lexer": "ipython3",
   "version": "3.10.7"
  }
 },
 "nbformat": 4,
 "nbformat_minor": 5
}
