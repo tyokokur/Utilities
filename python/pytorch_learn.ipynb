{
 "cells": [
  {
   "cell_type": "code",
   "execution_count": 2,
   "id": "9180a034-e143-4430-bf21-d0e36c10d0d1",
   "metadata": {},
   "outputs": [],
   "source": [
    "import torch \n",
    "import math"
   ]
  },
  {
   "cell_type": "code",
   "execution_count": 7,
   "id": "b3f59560-a8cc-4ca8-b172-feada5847b27",
   "metadata": {},
   "outputs": [
    {
     "name": "stdout",
     "output_type": "stream",
     "text": [
      "tensor([[ -3.1416,   9.8696, -31.0063],\n",
      "        [ -3.1384,   9.8499, -30.9133],\n",
      "        [ -3.1353,   9.8301, -30.8205],\n",
      "        ...,\n",
      "        [  3.1353,   9.8301,  30.8205],\n",
      "        [  3.1384,   9.8499,  30.9133],\n",
      "        [  3.1416,   9.8696,  31.0063]])\n"
     ]
    }
   ],
   "source": [
    "x = torch.linspace(-math.pi, math.pi, 2000)\n",
    "y = torch.sin(x)\n",
    "\n",
    "p = torch.tensor([1, 2, 3]) # Polynomial order\n",
    "xx = x.unsqueeze(-1).pow(p) # X vals before weights\n",
    "\n",
    "model = torch.nn.Sequential(\n",
    "    torch.nn.Linear(3, 1),\n",
    "    torch.nn.Flatten"
   ]
  }
 ],
 "metadata": {
  "kernelspec": {
   "display_name": "Python 3 (ipykernel)",
   "language": "python",
   "name": "python3"
  },
  "language_info": {
   "codemirror_mode": {
    "name": "ipython",
    "version": 3
   },
   "file_extension": ".py",
   "mimetype": "text/x-python",
   "name": "python",
   "nbconvert_exporter": "python",
   "pygments_lexer": "ipython3",
   "version": "3.10.7"
  }
 },
 "nbformat": 4,
 "nbformat_minor": 5
}
