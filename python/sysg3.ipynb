{
 "cells": [
  {
   "cell_type": "code",
   "execution_count": 8,
   "id": "6eea2e73-ce1a-412c-8bbc-80a2e0bf716c",
   "metadata": {},
   "outputs": [
    {
     "name": "stdout",
     "output_type": "stream",
     "text": [
      "tjy_udf:  ['H_find', 'Kap_D', 'git_sync', 'lighten_color', 'plot_anim', 'plot_pha', 'plot_pha_feed', 'ticks']\n"
     ]
    }
   ],
   "source": [
    "#@title Imports \n",
    "import numpy as np, pandas as pd, matplotlib.pyplot as plt, matplotlib as mpl\n",
    "import tjy_udf as tjy\n",
    "print(\"tjy_udf: \", list(filter(lambda x: '__' not in x, dir(tjy)))) # Print contained functions\n",
    "mpl.rc_file('tjy.mplstyle')\n",
    "\n",
    "pd.set_option('display.max_columns', 500)\n",
    "pd.set_option('display.width', 1000)\n",
    "pd.set_option('display.max_colwidth', None)\n",
    "DISPLAY_SORTED = True\n",
    "from matplotlib.lines import Line2D\n",
    "from matplotlib.patches import Patch\n",
    "from matplotlib import ticker\n",
    "from matplotlib.ticker import (AutoMinorLocator, MultipleLocator)\n",
    "from matplotlib import animation, rc\n",
    "    \n",
    "GIT = 'https://github.com/tyokokur/tmpdat/raw/main/sysg3/'\n",
    "''' If SSL error _ssl.c:997: \n",
    "    pip install --upgrade certifi'''\n",
    "\n",
    "###COOLWARM COLORMAP DOCUMENTATION  \n",
    "#https://depts.washington.edu/airqual/coolwarm.m\n",
    "#Base blue: RGB = [59 76 192]\n",
    "#Base red:  RGB = [180 4 38]\n",
    "warm_red = [180/255, 4/255, 38/255]\n",
    "cool_blue = [59/255,76/255,192/255]\n",
    "mix_purp = np.divide(np.add(warm_red,cool_blue),2).tolist()"
   ]
  },
  {
   "cell_type": "code",
   "execution_count": 2,
   "id": "7cf2c20b-404d-4c1f-8492-378ef2fa74ea",
   "metadata": {},
   "outputs": [
    {
     "name": "stdout",
     "output_type": "stream",
     "text": [
      "6.800000000000001\n",
      "CHECK 25.5\n",
      "sigma_target: 0.02, sigma_calc: 0.0241 (20.28%), R: 4.00\n",
      "nx (odd): 5, Lx: 24.40\n",
      "ny (even) : 4, Ly: 20.80\n",
      "Deltax: 30, Deltay: 17\n",
      "Nx: 61, Ny: 52\n",
      "////////\n",
      "nx_2 (odd): 3.0, Lx_2: 12.40\n",
      "ny_2 (even) : 2.0, Ly_2: 10.60\n",
      "Nx_2: 31, Ny_2: 26\n"
     ]
    },
    {
     "data": {
      "image/png": "[encoded data removed]",
      "text/plain": [
       "<Figure size 640x480 with 1 Axes>"
      ]
     },
     "metadata": {},
     "output_type": "display_data"
    }
   ],
   "source": [
    "# NBC\n",
    "import math\n",
    "sigma = 0.02 # c/nm2\n",
    "Lx, Ly = 30, 30# nm\n",
    "dx = 0.40 #nm\n",
    "dy = dx\n",
    "\n",
    "R = math.floor( np.sqrt(2/(3*np.sqrt(3)*sigma)) / dx ) * dx\n",
    "s3R = math.floor( np.sqrt(3)*R / dx ) * dx\n",
    "Deltax, Deltay = int(3*R/dx), int(s3R/dy)\n",
    "\n",
    "nx = 2*math.floor(Lx/(3*R))\n",
    "if (nx%2)==0: nx += 1 # nx must be odd\n",
    "nx_2 = (nx-1)/2 + 1\n",
    "Lx   = Deltax*dx*(nx-1)  /2+dx\n",
    "Lx_2 = Deltax*dx*(nx_2-1)/2+dx\n",
    "\n",
    "print(s3R)\n",
    "ny = math.floor(Ly/(s3R))\n",
    "if (ny%2)==1: ny += 1 # ny must be even\n",
    "ny_2 = ny/2\n",
    "Ly   =     Deltay*dy*(ny-1)  +dy\n",
    "Ly_2 = 1.5*Deltay*dy*(ny_2-1)+dy\n",
    "\n",
    "Nx   = int(    Deltax*(nx-1)  /2) +1\n",
    "Ny   = int(    Deltay*(ny-1))     +1\n",
    "Nx_2 = int(    Deltax*(nx_2-1)/2) +1\n",
    "Ny_2 = math.floor(1.5*Deltay*(ny_2-1))   +1\n",
    "print(\"CHECK {}\".format(1.5*Deltay*(ny_2-1)))\n",
    "\n",
    "s_calc = 2/(3*np.sqrt(3)*R**2)\n",
    "print(\"sigma_target: {}, sigma_calc: {:.4f} ({:.2f}%), R: {:.2f}\".format(sigma, s_calc, 100*(s_calc/sigma-1.0), R))\n",
    "print(\"nx (odd): {}, Lx: {:.2f}\".format(nx, Lx))\n",
    "print(\"ny (even) : {}, Ly: {:.2f}\".format(ny, Ly))\n",
    "print(\"Deltax: {}, Deltay: {}\".format(Deltax, Deltay))\n",
    "print(\"Nx: {}, Ny: {}\".format(Nx, Ny))\n",
    "print(\"////////\")\n",
    "print(\"nx_2 (odd): {}, Lx_2: {:.2f}\".format(nx_2, Lx_2))\n",
    "print(\"ny_2 (even) : {}, Ly_2: {:.2f}\".format(ny_2, Ly_2))\n",
    "print(\"Nx_2: {}, Ny_2: {}\".format(Nx_2, Ny_2))\n",
    "\n",
    "SURF = np.zeros((Nx, Ny))\n",
    "s1 = (0, Ly-dy) \n",
    "s2 = (math.floor(3*R/2/dx)*dx, math.floor(s3R/2/dy)*dy)\n",
    "\n",
    "x1, y1 = int(s1[0]/dx), int(s1[1]/dy)\n",
    "while (x1*dx <= Lx):\n",
    "    y1 = int(s1[1]/dy)\n",
    "    SURF[x1][y1] = 1.0\n",
    "    while (y1*dy >= 0):\n",
    "        SURF[x1][y1] = 1.0\n",
    "        y1 -= Deltay\n",
    "    x1 += Deltax\n",
    "    \n",
    "x2, y2 = int(s2[0]/dx), int(s2[1]/dy)\n",
    "while (x2*dx <= Lx):\n",
    "    y2 = int(s2[1]/dy)\n",
    "    SURF[x2][y2] = 1.0\n",
    "    while (y2*dy <= Ly):\n",
    "        SURF[x2][y2] = 1.0\n",
    "        y2 += Deltay\n",
    "    x2 += Deltax\n",
    "######################################    \n",
    "s1 = (0, 0) \n",
    "s2 = (math.floor(3*R/2/dx)*dx, math.floor(s3R/2/dy)*dy)\n",
    "SURF[np.ix_(np.arange(0,Nx_2), np.arange(0,Ny_2))] = 0.1  # not sure how ix_ works, error when ny = 2\n",
    "x1, y1 = int(s1[0]/dx), int(s1[1]/dy)\n",
    "while (x1*dx <= Lx_2):\n",
    "    y1 = int(s1[1]/dy)\n",
    "    SURF[x1][y1] = 0.5\n",
    "    while (y1*dy <= Ly_2):\n",
    "        SURF[x1][y1] = 0.5\n",
    "        y1 += Deltay\n",
    "    x1 += Deltax\n",
    "    \n",
    "x2, y2 = int(s2[0]/dx), int(s2[1]/dy)\n",
    "while (x2*dx <= Lx_2):\n",
    "    y2 = int(s2[1]/dy)\n",
    "    SURF[x2][y2] = 0.5\n",
    "    while (y2*dy <= Ly_2):\n",
    "        SURF[x2][y2] = 0.5\n",
    "        y2 += Deltay\n",
    "    x2 += Deltax\n",
    "plt.figure()\n",
    "plt.imshow(SURF.transpose(), cmap='hot', origin='lower')\n",
    "tjy.ticks()"
   ]
  },
  {
   "cell_type": "code",
   "execution_count": 3,
   "id": "54917c4c-27d6-46e3-ab84-60f94a7191f8",
   "metadata": {},
   "outputs": [
    {
     "ename": "NameError",
     "evalue": "name 'bmin' is not defined",
     "output_type": "error",
     "traceback": [
      "\u001b[1;31m---------------------------------------------------------------------------\u001b[0m",
      "\u001b[1;31mNameError\u001b[0m                                 Traceback (most recent call last)",
      "Cell \u001b[1;32mIn [3], line 2\u001b[0m\n\u001b[0;32m      1\u001b[0m \u001b[38;5;66;03m## Objective Function\u001b[39;00m\n\u001b[1;32m----> 2\u001b[0m bmesh, vmesh \u001b[38;5;241m=\u001b[39m np\u001b[38;5;241m.\u001b[39mmgrid[bmin:bmax:\u001b[38;5;241m100\u001b[39mj, vmin:vmax:\u001b[38;5;241m100\u001b[39mj]\n\u001b[0;32m      3\u001b[0m res \u001b[38;5;241m=\u001b[39m griddata(bvs, Rs, (bmesh, vmesh), method\u001b[38;5;241m=\u001b[39m\u001b[38;5;124m'\u001b[39m\u001b[38;5;124mcubic\u001b[39m\u001b[38;5;124m'\u001b[39m)\n\u001b[0;32m      5\u001b[0m \u001b[38;5;66;03m# # Plot the 3D surface\u001b[39;00m\n",
      "\u001b[1;31mNameError\u001b[0m: name 'bmin' is not defined"
     ]
    }
   ],
   "source": [
    "## Objective Function\n",
    "res = griddata(bvs, Rs, (bmesh, vmesh), method='cubic')\n",
    "\n",
    "# # Plot the 3D surface\n",
    "from mpl_toolkits.axes_grid1.inset_locator import inset_axes\n",
    "hmin = 0.55*min(np.nanmin(res), min(Rs))\n",
    "hmax = max(np.nanmax(res), max(Rs))\n",
    "ax.plot_surface(bmesh, vmesh, res, edgecolor='k', lw=0.5, rstride=8, cstride=8, alpha=0.3, zorder=3)\n",
    "plt.xticks(rotation=30)\n",
    "plt.yticks(rotation=-30)\n",
    "s = ax.contourf(bmesh, vmesh, res, zdir='z', offset=hmin, cmap='coolwarm', zorder=2)\n",
    "axins = inset_axes(ax, width=\"90%\", height=\"5%\", loc='upper center', borderpad=0)\n",
    "plt.colorbar(s, cax=axins, orientation='horizontal', ticklocation='top')\n",
    "ax.set(xlabel='\\n\\n\\nb', ylabel='\\n\\n\\nv   ', zlabel='\\n\\n'r'$\\Sigma(\\mathrm{Res}^2)$',\n",
    "          xlim = (bmin, bmax), ylim = (vmin, vmax), zlim = (hmin, hmax))\n",
    "ax.set_box_aspect((4,4,3), zoom=0.8)\n",
    "tjy.ticks()\n",
    "plt.show()"
   ]
  },
  {
   "cell_type": "code",
   "execution_count": 7,
   "id": "327342f4-e1ae-4ff9-8747-685fd2a3a749",
   "metadata": {},
   "outputs": [
    {
     "data": {
      "text/plain": [
       "(array([[ 0. ,  0. ,  0. ,  0. ,  0. ],\n",
       "        [ 2.5,  2.5,  2.5,  2.5,  2.5],\n",
       "        [ 5. ,  5. ,  5. ,  5. ,  5. ],\n",
       "        [ 7.5,  7.5,  7.5,  7.5,  7.5],\n",
       "        [10. , 10. , 10. , 10. , 10. ]]),\n",
       " array([[ 0. ,  2.5,  5. ,  7.5, 10. ],\n",
       "        [ 0. ,  2.5,  5. ,  7.5, 10. ],\n",
       "        [ 0. ,  2.5,  5. ,  7.5, 10. ],\n",
       "        [ 0. ,  2.5,  5. ,  7.5, 10. ],\n",
       "        [ 0. ,  2.5,  5. ,  7.5, 10. ]]))"
      ]
     },
     "execution_count": 7,
     "metadata": {},
     "output_type": "execute_result"
    }
   ],
   "source": [
    "bmesh, vmesh = np.mgrid[0:10:5j, 0:10:5j]\n",
    "bmesh, vmesh"
   ]
  }
 ],
 "metadata": {
  "kernelspec": {
   "display_name": "Python 3 (ipykernel)",
   "language": "python",
   "name": "python3"
  },
  "language_info": {
   "codemirror_mode": {
    "name": "ipython",
    "version": 3
   },
   "file_extension": ".py",
   "mimetype": "text/x-python",
   "name": "python",
   "nbconvert_exporter": "python",
   "pygments_lexer": "ipython3",
   "version": "3.10.7"
  }
 },
 "nbformat": 4,
 "nbformat_minor": 5
}
