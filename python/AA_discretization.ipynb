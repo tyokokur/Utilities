{
 "cells": [
  {
   "cell_type": "code",
   "execution_count": 3,
   "metadata": {
    "id": "qRAhZcSdYsno"
   },
   "outputs": [],
   "source": [
    "import numpy as np, pandas as pd, matplotlib.pyplot as plt, matplotlib as mpl\n",
    "import tjy_udf as tjy\n",
    "mpl.rc_file('tjy.mplstyle')\n",
    "\n",
    "pd.set_option('display.max_columns', 500)\n",
    "pd.set_option('display.width', 1000)\n",
    "pd.set_option('display.max_colwidth', None)\n",
    "DISPLAY_SORTED = True\n",
    "\n",
    "from matplotlib.collections import LineCollection\n",
    "from matplotlib.colors import ListedColormap, BoundaryNorm\n",
    "from matplotlib.lines import Line2D\n",
    "from matplotlib.patches import Patch\n",
    "from matplotlib import ticker\n",
    "\n",
    "###COOLWARM COLORMAP DOCUMENTATION  \n",
    "#https://depts.washington.edu/airqual/coolwarm.m\n",
    "#Base blue: RGB = [59 76 192]\n",
    "#Base red:  RGB = [180 4 38]\n",
    "warm_red = [180/255, 4/255, 38/255]\n",
    "cool_blue = [59/255,76/255,192/255]\n",
    "from matplotlib.ticker import (AutoMinorLocator, MultipleLocator)"
   ]
  },
  {
   "cell_type": "code",
   "execution_count": 4,
   "metadata": {
    "id": "K98idBfAY_sq"
   },
   "outputs": [],
   "source": [
    "#From Erika: sequences.docx; phosphorylation s,t from 03/15 email\n",
    "L_seq = \"MGCETRLSFTSVGSITSGYSQSSQVFGRSAYSGLQsSSYLMsARAFPAYYTSHVQEEQSEVEETIEATKAEEAKDEPPSEGEAEEEEKEKEEGEEEEGAEEEEAAKDESEDAKEEEGGEGEEEDTKESEEEEKKEESAGEEQAAKKKDLEHHHHHH\"\n",
    "# Actual, but grafted at first C: M_seq = \"GSSHHHHHHSsGLVPRGSHMCWYSTFSGSITGPLYTHRQPSVtISSKIQKTKVEAPKLKVQHKFVEEIIEETKVEDEKSEMEDALTVIAEELAASAKEEKEEAEEKEEEPEVEKsPVKsPEAKEEEEGEKEEEEEGQEEEEEEDEGVKSDQAEEGGSEKEGSSEKDEGEQEEEGETEAEGEGEEAEAKEEKKTEGKVEEMAIKEEIKVEKPEKAKsPVPKsPVEEVKPKPEAKAGKDEQKEEEKVEEKKEVAKEsPKEEKVEKKEEKPKDVPDKKKAESPVKEKAVEEMITITKSVKVSLEKDTKEEKPQQQEKVKEKAEEEGGSEEEVGDKsPQESKKEDIAINGEVEGKEEEEQETQEKGSGQEEEKGVVTNGLDVSPAEEKKGEDRSDDKVVVTKKVEKITSEGGDGATKYITKSVTVTQKVEEHEETFEEKLVSTKKVEKVTSHAIVKEVTQGD\"\n",
    "M_seq = \"CWYSTFSGSITGPLYTHRQPSVtISSKIQKTKVEAPKLKVQHKFVEEIIEETKVEDEKSEMEDALTVIAEELAASAKEEKEEAEEKEEEPEVEKsPVKsPEAKEEEEGEKEEEEEGQEEEEEEDEGVKSDQAEEGGSEKEGSSEKDEGEQEEEGETEAEGEGEEAEAKEEKKTEGKVEEMAIKEEIKVEKPEKAKsPVPKsPVEEVKPKPEAKAGKDEQKEEEKVEEKKEVAKEsPKEEKVEKKEEKPKDVPDKKKAESPVKEKAVEEMITITKSVKVSLEKDTKEEKPQQQEKVKEKAEEEGGSEEEVGDKsPQESKKEDIAINGEVEGKEEEEQETQEKGSGQEEEKGVVTNGLDVSPAEEKKGEDRSDDKVVVTKKVEKITSEGGDGATKYITKSVTVTQKVEEHEETFEEKLVSTKKVEKVTSHAIVKEVTQGD\"\n",
    "H_final  = \"MGCWYMSEFTSMSTHIKVKSEEKIKVVEKSEKETVIVEEQTEEIQVTEEVTEEEDKEAQGEEEEEAEEGGEEAATTSPPAEEAASPEKEtKSPVKEEAKsPAEAKsPAEAKsPAEAKsPAEVKsPAVAKsPAEVKsPAEVKsPAEAKsPAEAKsPAEVKsPATVKsPGEAKsPAEAKsPAEVKsPVEAKsPAEAKsPASVKsPGEAKsPAEAKsPAEVKsPATVKsPVEAKsPAEVKsPVTVKsPAEAKsPVEVKsPAsVKsPSEAKsPAGAKsPAEAKsPVVAKsPAEAKsPAEAKPPAEAKsPAEAKsPAEAKsPAEAKsPAEAKsPVEVKsPEKAKsPVKEGAKSLAEAKsPEKAKsPVKEEIKPPAEVKsPEKAKsPMKEEAKsPEKAKTLDVKsPEAKtPAKEEAKRPADIRsPEQVKsPAKEEAKsPEKEETRTEKVAPKKEEVKsPVEEVKAKEPPKKVEEEKTPAtPKTEVKESKKDEAPKEAQKPKAEEKEPLTEKPKDsPGEAKKEEAKEKKAAAPEEETPAKLGVKEEAKPKEKAEDAKAKEPSKPSEKEKPKKEEVPAAPEKKDTKEEKTTESKKPEEKPKMEAKAKEEDKGLPQEPSKPKTEKAEKSSSTDQKDSQPSEKAPEDKLLEHHHHHH\"\n",
    "HD2_final= \"MGCWYMSEFTSMSTHIKVKSEEKIKVVEKSEKETVAATTSPPAEEAASPEKEtKSPVKEEAKsPAEAKsPAEAKsPAEAKsPAEVKsPAVAKsPAEVKsPAEVKsPAEAKsPAEAKsPAEVKsPATVKsPGEAKsPAEAKsPAEVKsPVEAKsPAEAKsPASVKsPGEAKsPAEAKsPAEVKsPATVKsPVEAKsPAEVKsPVTVKsPAEAKsPVEVKsPAsVKsPSEAKsPAGAKsPAEAKsPVVAKsPAEAKsPAEAKPPAEAKsPAEAKsPAEAKsPAEAKsPAEAKsPVEVKsPEKAKsPVKEGAKSLAEAKsPEKAKsPVKEEIKPPAEVKsPEKAKsPMKEEAKsPEKAKTLDVKsPEAKtPAKEEAKRPADIRsPEQVKsPAKEEAKsPEKEETRTEKVAPKKEEVKsPVEEVKAKEPPKKVEEEKTPAtPKTEVKESKKDEAPKEAQKPKAEEKEPLTEKPKDsPGEAKKEEAKEKKAAAPEEETPAKLGVKEEAKPKEKAEDAKAKEPSKPSEKEKPKKEEVPAAPEKKDTKEEKTTESKKPEEKPKMEAKAKEEDKGLPQEPSKPKTEKAEKSSSTDQKDSQPSEKAPEDKLLEHHHHHH\""
   ]
  },
  {
   "cell_type": "code",
   "execution_count": 5,
   "metadata": {
    "colab": {
     "base_uri": "https://localhost:8080/",
     "height": 413
    },
    "id": "W0lPd-j0UySZ",
    "outputId": "9383a526-07df-457f-b6d2-00403fa33671"
   },
   "outputs": [
    {
     "ename": "NameError",
     "evalue": "name 'H_seq' is not defined",
     "output_type": "error",
     "traceback": [
      "\u001b[1;31m---------------------------------------------------------------------------\u001b[0m",
      "\u001b[1;31mNameError\u001b[0m                                 Traceback (most recent call last)",
      "Cell \u001b[1;32mIn [5], line 4\u001b[0m\n\u001b[0;32m      2\u001b[0m L_AA \u001b[38;5;241m=\u001b[39m [i \u001b[38;5;28;01mfor\u001b[39;00m i \u001b[38;5;129;01min\u001b[39;00m L_seq]\n\u001b[0;32m      3\u001b[0m M_AA \u001b[38;5;241m=\u001b[39m [i \u001b[38;5;28;01mfor\u001b[39;00m i \u001b[38;5;129;01min\u001b[39;00m M_seq]\n\u001b[1;32m----> 4\u001b[0m H_AA \u001b[38;5;241m=\u001b[39m [i \u001b[38;5;28;01mfor\u001b[39;00m i \u001b[38;5;129;01min\u001b[39;00m H_seq]\n\u001b[0;32m      5\u001b[0m AA \u001b[38;5;241m=\u001b[39m [L_AA, M_AA, H_AA]\n\u001b[0;32m      6\u001b[0m name \u001b[38;5;241m=\u001b[39m [\u001b[38;5;124m'\u001b[39m\u001b[38;5;124mNFL\u001b[39m\u001b[38;5;124m'\u001b[39m, \u001b[38;5;124m'\u001b[39m\u001b[38;5;124mNFM\u001b[39m\u001b[38;5;124m'\u001b[39m, \u001b[38;5;124m'\u001b[39m\u001b[38;5;124mNFH\u001b[39m\u001b[38;5;124m'\u001b[39m]\n",
      "\u001b[1;31mNameError\u001b[0m: name 'H_seq' is not defined"
     ]
    },
    {
     "data": {
      "image/png": "[encoded data removed]",
      "text/plain": [
       "<Figure size 2300x600 with 3 Axes>"
      ]
     },
     "metadata": {},
     "output_type": "display_data"
    }
   ],
   "source": [
    "f, ax = plt.subplots(nrows = 1, ncols = 3, figsize=(23, 6))\n",
    "L_AA = [i for i in L_seq]\n",
    "M_AA = [i for i in M_seq]\n",
    "H_AA = [i for i in H_seq]\n",
    "AA = [L_AA, M_AA, H_AA]\n",
    "name = ['NFL', 'NFM', 'NFH']\n",
    "for i in range(len(AA)):\n",
    "  pd.Series(AA[i]).value_counts().plot(ax = ax[i], kind='bar')\n",
    "  ax[i].set_title(name[i], fontweight=\"bold\")\n",
    "plt.show()"
   ]
  },
  {
   "cell_type": "code",
   "execution_count": null,
   "metadata": {},
   "outputs": [],
   "source": [
    "def aa_to_stiff(aa):\n",
    "  switcher = {\n",
    "      \"G\": 1,\n",
    "      \"A\": 2,\n",
    "      \"V\": 3,\n",
    "      \"P\": 0,\n",
    "      \"E\": 5,\n",
    "      \"K\": 6, \n",
    "  }\n",
    "  return switcher.get(aa, 0) #If not in switcher, stiff = 0\n",
    "\n",
    "msum = 0\n",
    "for i in M_seq:\n",
    "    msum += aa_to_stiff(i)\n",
    "mavg = msum / len(M_seq)\n",
    "print(\"NFM: {} / {} = {:.2f}\".format(msum, len(M_seq), mavg))\n",
    "hsum = 0\n",
    "for i in H_seq:\n",
    "    hsum += aa_to_stiff(i)\n",
    "havg = hsum / len(H_seq)\n",
    "print(\"NFH: {} / {} = {:.2f}\".format(hsum, len(H_seq), havg))"
   ]
  },
  {
   "cell_type": "code",
   "execution_count": null,
   "metadata": {
    "id": "CzZHNx1uZD6E"
   },
   "outputs": [],
   "source": [
    "aa_b = 3.6e-1; #nanometer units, source: \"https://bionumbers.hms.harvard.edu/bionumber.aspx?s=n&v=5&id=114332\""
   ]
  },
  {
   "cell_type": "code",
   "execution_count": null,
   "metadata": {
    "id": "25WeqviMayP_"
   },
   "outputs": [],
   "source": [
    "def charge_dist(sequence):\n",
    "  charge_dist = []\n",
    "  for i in sequence:\n",
    "    charge_dist.append(aa_to_charge(i))\n",
    "\n",
    "  return charge_dist\n",
    "\n",
    "def aa_to_charge(aa):\n",
    "  switcher = {\n",
    "      \"E\": -1,\n",
    "      \"R\": +1,\n",
    "      \"K\": +1,\n",
    "      \"D\": -1,\n",
    "      \"H\": +0, #+1 #not part of original gene\n",
    "  }\n",
    "  return switcher.get(aa, 0) #If not in switcher, charge = 0\n",
    "\n",
    "def charge_dist_ph(sequence, ph, phos=False):\n",
    "  charge_dist = []\n",
    "  for i in sequence:\n",
    "    charge_dist.append(aa_to_charge_ph(i, ph, phos))\n",
    "\n",
    "  return charge_dist\n",
    "\n",
    "def aa_to_charge_ph(aa, ph, phos=False):\n",
    "    #Source: https://www.sigmaaldrich.com/US/en/technical-documents/technical-article/protein-biology/protein-structural-analysis/amino-acid-reference-chart\n",
    "    pKa = {\n",
    "      #\"G\": [2.34, 9.60],\n",
    "      #\"A\": [2.34, 9.69],\n",
    "      #\"V\": [2.32, 9.62],\n",
    "      #\"L\": [2.36, 9.60],\n",
    "      #\"I\": [2.36, 9.60],\n",
    "      #\"M\": [2.28, 9.21],\n",
    "      #\"F\": [1.83, 9.13],\n",
    "      #\"W\": [2.38, 9.39],\n",
    "      #\"P\": [1.99, 10.60],\n",
    "      #\"S\": [2.21, 9.15],\n",
    "      #\"T\": [2.09, 9.10],\n",
    "      #\"N\": [2.02, 8.80],\n",
    "      #\"Q\": [2.17, 9.13],\n",
    "      #\"C\": [1.96, 10.28, 8.18],\n",
    "      #\"Y\": [2.20, 9.11, 10.07],\n",
    "      #\"D\": [1.88, 9.60, 3.65],\n",
    "      #\"E\": [2.19, 9.67, 4.25],\n",
    "      #\"K\": [2.18, 8.95, 10.53],\n",
    "      #\"R\": [2.17, 9.04, 12.48],\n",
    "      #\"H\": [1.82, 9.17, 6.00],\n",
    "\n",
    "      #\"C\": [8.18],\n",
    "      #\"Y\": [10.07],\n",
    "      \"D\": [3.65, -1*np.inf],\n",
    "      \"E\": [4.25, -1*np.inf],\n",
    "      \"K\": [np.inf, 10.53],\n",
    "      \"R\": [np.inf, 12.48],\n",
    "      \"H\": [np.inf, 6.00],\n",
    "    }\n",
    "\n",
    "    #Henderson Hasselbalch\n",
    "    ## HH --> pH  - pKa = log10([base]/[acid])\n",
    "\n",
    "    #Example: pH 2.4 / pOH 11.6\n",
    "    ## [D]: 2.4 - 3.65 = -1.25 = log10([A-]/[HA]) -->  [A-]/[HA] = 0.056 \n",
    "    ##      --> ch = Z- * [A-]/([A-] + [HA])  = -0.053\n",
    "    ## [K]: 11.6 - 10.53 = 1.07 = log10([BH+]/[B]) --> [BH+]/[B] = 11.75\n",
    "    ##      --> ch = X+ * [BH+]/([BH+] + [B]) = +0.92\n",
    "\n",
    "    a_ha = 10**(ph - pKa.get(aa,[np.inf]*2)[0])\n",
    "    bh_b = 10**(-1*(ph-pKa.get(aa,[-1*np.inf]*2)[1]))\n",
    "    \n",
    "    if phos and (aa == 's' or aa == 't'):\n",
    "        ch = -1.25 ## ASSUMPTION of -1.5 for phosphorylated \n",
    "    else: \n",
    "        ch = bh_b/(1 + bh_b) - a_ha/(1 + a_ha)\n",
    "    \n",
    "\n",
    "    ##WITHOUT H-H\n",
    "    # ch = 0\n",
    "    # if (ph > pKa.get(aa, [ph, ph])[0]): ch += -1\n",
    "    # if (ph < pKa.get(aa, [ph, ph])[1]): ch += 1\n",
    "  \n",
    "    return ch\n",
    "\n",
    "\n",
    "\n",
    "def chi_dist(sequence):\n",
    "  chi_dist = []\n",
    "  for i in sequence: \n",
    "    chi_dist.append(aa_to_chi(i))\n",
    "\n",
    "  return chi_dist\n",
    "\n",
    "# def aa_to_chi(aa):\n",
    "#   chi_max = 3.00\n",
    "#   switcher = {\n",
    "#       \"G\": chi_max, \"P\": chi_max, \"C\": chi_max, \"M\": chi_max, \"A\": chi_max, \"L\": chi_max, \"V\": chi_max, \"I\": chi_max,\n",
    "#       \"Y\": 0.6, \"Q\": 0.6, \"H\": 0.6, \"F\": 0.6, \"W\": 0.6, \n",
    "#       \"E\": 0.0, \"D\": 0.0, \"N\": 0.0, #N (Asparagine added, polar uncharged)\n",
    "#       \"K\": 0.0, \"R\": 0.0,\n",
    "#       \"S\": 0.6, \"T\": 0.6, \n",
    "#       \"s\": 0.6, \"t\": 0.6 #phosphorylated S and T\n",
    "#   }\n",
    "#   return switcher.get(aa, \"ERROR: {:s}\".format(aa))\n",
    "    \n",
    "def aa_to_chi(aa):    \n",
    "    chi_max = 2.00\n",
    "    switcher = {\n",
    "        ## FROM MONERA 1995 J. Peptide Sci., pH 7. \n",
    "        \"G\": 0, ## Reference for retention time in HPLC\n",
    "        \"A\": 41, \"R\": -14, \"L\": 97, \"K\": -23, \"M\": 74, \"Q\": -10, \"I\": 99,\n",
    "        \"W\": 97, \"F\": 100, \"Y\": 63, \"C\": 49, \"V\": 76, \"N\": -28, \"S\": -5,\n",
    "        \"H\": 8, \"E\": -31, \"T\": 13, \"D\": -55, \n",
    "        \"s\": -5, \"t\": 13,\n",
    "        \"P\": -34, ## FROM SEREDA 1994 J. Chrom., pH 2 (see table from https://www.sigmaaldrich.com/US/en/technical-documents/technical-article/protein-biology/protein-structural-analysis/amino-acid-reference-chart)\n",
    "    }\n",
    "    chi_lit = switcher.get(aa)\n",
    "    minum = min(list(switcher.values()))\n",
    "    maxum = max(list(switcher.values()))\n",
    "    return (switcher.get(aa)-minum)*chi_max/(maxum-minum)\n"
   ]
  },
  {
   "cell_type": "code",
   "execution_count": null,
   "metadata": {
    "colab": {
     "base_uri": "https://localhost:8080/"
    },
    "id": "BpO9Cpbr6hVb",
    "outputId": "4904111d-e3ec-4d9e-9d02-60894f842039"
   },
   "outputs": [],
   "source": []
  },
  {
   "cell_type": "code",
   "execution_count": null,
   "metadata": {
    "id": "e4ETYtfTf-_3"
   },
   "outputs": [],
   "source": [
    "def find_charge_avg(sequence, NsK_list):\n",
    "  Num_blocks = len(NsK_list)\n",
    "\n",
    "  start = 0\n",
    "  end = 0\n",
    "  Nsi = len(sequence)\n",
    "  L_final = []\n",
    "  L_dist = charge_dist(sequence)\n",
    "\n",
    "  for i in range(Num_blocks):\n",
    "    NsK = NsK_list[i]\n",
    "    end += NsK\n",
    "    avg = sum(L_dist[start:end])/NsK\n",
    "\n",
    "    print(\"Charge Block {:d}: [{:d} {:d}] = {:.6f}\".format(i+1, start, end, avg))\n",
    "    L_inter = (np.ones(NsK)*avg).tolist()\n",
    "    L_final += L_inter\n",
    "    start += NsK\n",
    "  return L_final\n",
    "\n",
    "def find_charge_avg_ph(sequence, NsK_list, ph, phos=False):\n",
    "  Num_blocks = len(NsK_list)\n",
    "\n",
    "  start = 0\n",
    "  end = 0\n",
    "  Nsi = len(sequence)\n",
    "  L_final = []\n",
    "  L_dist = charge_dist_ph(sequence, ph, phos)\n",
    "\n",
    "  for i in range(Num_blocks):\n",
    "    NsK = NsK_list[i]\n",
    "    end += NsK\n",
    "    avg = sum(L_dist[start:end])/NsK\n",
    "\n",
    "    print(\"Charge Block {:d}: [{:d} {:d}] = {:.6f}\".format(i+1, start, end, avg))\n",
    "    L_inter = (np.ones(NsK)*avg).tolist()\n",
    "    L_final += L_inter\n",
    "    start += NsK\n",
    "  return L_final\n",
    "\n",
    "def find_chi_avg(sequence, NsK_list):\n",
    "  Num_blocks = len(NsK_list)\n",
    "\n",
    "  start = 0\n",
    "  end = 0\n",
    "  Nsi = len(sequence)\n",
    "  L_final = []\n",
    "  L_dist = chi_dist(sequence)\n",
    "\n",
    "  for i in range(Num_blocks):\n",
    "    NsK = NsK_list[i]\n",
    "    end += NsK\n",
    "    avg = sum(L_dist[start:end])/NsK\n",
    "\n",
    "    print(\"Chi Block {:d}: [{:d} {:d}] = {:.6f}\".format(i+1, start, end, avg))\n",
    "    L_inter = (np.ones(NsK)*avg).tolist()\n",
    "    L_final += L_inter\n",
    "    start += NsK\n",
    "  return L_final\n",
    "\n",
    "def Norm_cumsum(sequence):\n",
    "  L_cumsum = np.cumsum(charge_dist(sequence)[0:len(sequence)])\n",
    "  if (abs(min(L_cumsum)) > abs(max(L_cumsum))): \n",
    "    L_cumsum_max = abs(min(L_cumsum))\n",
    "  else:\n",
    "    L_cumsum_max = abs(max(L_cumsum))\n",
    "  return L_cumsum / L_cumsum_max\n",
    "\n",
    "def Norm_cumsum_ph(sequence, ph, phos=False):\n",
    "  L_cumsum = np.cumsum(charge_dist_ph(sequence, ph, phos)[0:len(sequence)])\n",
    "  if (abs(min(L_cumsum)) > abs(max(L_cumsum))): \n",
    "    L_cumsum_max = abs(min(L_cumsum))\n",
    "  else:\n",
    "    L_cumsum_max = abs(max(L_cumsum))\n",
    "  return L_cumsum / L_cumsum_max"
   ]
  },
  {
   "cell_type": "code",
   "execution_count": null,
   "metadata": {
    "id": "TXAl07OmKZ5p"
   },
   "outputs": [],
   "source": [
    "def Discr_cumsum(sequence, block_N, smear):\n",
    "  N = len(sequence)\n",
    "  x = np.linspace(0,N,N)\n",
    "  y = np.asarray(Norm_cumsum(sequence))\n",
    "\n",
    "  points = np.array([x, y]).T.reshape(-1, 1, 2)\n",
    "  segments = np.concatenate([points[:-1], points[1:]], axis=1)\n",
    "\n",
    "  cmap = plt.cm.coolwarm #CHOOSE CMAP TYPE\n",
    "  cmaplist = [cmap(i) for i in range(cmap.N)] # extract all colors from the .jet map\n",
    "  cmap = mpl.colors.LinearSegmentedColormap.from_list('Custom cmap', cmaplist, cmap.N) #new cmap\n",
    "\n",
    "  dydx = np.ndarray(0)\n",
    "  for i in range(round(N/smear)-1):\n",
    "    m = (Norm_cumsum(sequence)[(i+1)*smear]-Norm_cumsum(sequence)[i*smear])/smear\n",
    "    dydx = np.concatenate([dydx, m*np.ones(smear)], axis = 0)\n",
    "\n",
    "  i = N-smear*(round(N/smear)-1)\n",
    "  m = (Norm_cumsum(sequence)[N-1]-Norm_cumsum(sequence)[N-i-1])/smear\n",
    "  dydx = np.concatenate([dydx, m*np.ones(i)], axis = 0)\n",
    "\n",
    "  zero_thresh = 10\n",
    "  norm_set = [dydx.min()]\n",
    "  for i in range(block_N-1):\n",
    "    m = (dydx.max() - dydx.min())/block_N\n",
    "    norm_set += [(i+1)*m + dydx.min()]\n",
    "    if abs((i+1)*m + dydx.min()) < zero_thresh:\n",
    "      zero = i\n",
    "      zero_thresh = abs((i+1)*m + dydx.min())\n",
    "  norm_set += [dydx.max()]\n",
    "\n",
    "  norm = BoundaryNorm(norm_set, cmap.N)\n",
    "  lc = LineCollection(segments, lw=5, cmap=cmap, norm=norm, zorder = 5, label=\"_no_label\") #Bring to front of plot\n",
    "  lc.set_array(dydx)\n",
    "  return [lc, dydx, norm_set]\n"
   ]
  },
  {
   "cell_type": "code",
   "execution_count": null,
   "metadata": {
    "id": "Ti6OX5P73vm_"
   },
   "outputs": [],
   "source": [
    "def Discr_cumsum_ph(sequence, block_N, smear, ph, phos=False):\n",
    "    N = len(sequence)\n",
    "    x = np.linspace(0,N,N)\n",
    "    y = np.asarray(Norm_cumsum_ph(sequence, ph, phos))\n",
    "\n",
    "    points = np.array([x, y]).T.reshape(-1, 1, 2)\n",
    "    segments = np.concatenate([points[:-1], points[1:]], axis=1)\n",
    "\n",
    "    cmap = plt.cm.magma #CHOOSE CMAP TYPE\n",
    "    cmaplist = [tjy.lighten_color(cmap(i), 0.8) for i in range(int(0.75*cmap.N))] # 0.70 * since don't want yellow\n",
    "    cmap = mpl.colors.LinearSegmentedColormap.from_list('Custom cmap', cmaplist, cmap.N) #new cmap\n",
    "\n",
    "    dydx = np.ndarray(0)\n",
    "    for i in range(round(N/smear)-1):\n",
    "        m = (Norm_cumsum_ph(sequence, ph, phos)[(i+1)*smear]-Norm_cumsum_ph(sequence, ph, phos)[i*smear])/smear\n",
    "        dydx = np.concatenate([dydx, m*np.ones(smear)], axis = 0)\n",
    "\n",
    "    i = N-smear*(round(N/smear)-1)\n",
    "    m = (Norm_cumsum_ph(sequence, ph, phos)[N-1]-Norm_cumsum_ph(sequence, ph, phos)[N-i-1])/smear\n",
    "    dydx = np.concatenate([dydx, m*np.ones(i)], axis = 0)\n",
    "\n",
    "    zero_thresh = 10\n",
    "    norm_set = [dydx.min()]\n",
    "    for i in range(block_N-1):\n",
    "        m = (dydx.max() - dydx.min())/block_N\n",
    "        norm_set += [(i+1)*m + dydx.min()]\n",
    "    if abs((i+1)*m + dydx.min()) < zero_thresh:\n",
    "        zero = i\n",
    "        zero_thresh = abs((i+1)*m + dydx.min())\n",
    "        norm_set += [dydx.max()]\n",
    "\n",
    "    norm = BoundaryNorm(norm_set, cmap.N)\n",
    "    lc = LineCollection(segments, lw=3, cmap=cmap, norm=norm, zorder = 5, label=\"_no_label\") #Bring to front of plot\n",
    "    lc.set_array(dydx)\n",
    "    return [lc, dydx, norm_set]\n"
   ]
  },
  {
   "cell_type": "code",
   "execution_count": null,
   "metadata": {},
   "outputs": [],
   "source": [
    "cmap = plt.cm.magma #CHOOSE CMAP TYPE\n",
    "cmaplist = [tjy.lighten_color(cmap(i), 0.6) for i in range(cmap.N)] # extract all colors from the .jet map\n",
    "print(cmaplist[-1])\n",
    "\n",
    "cmaplist = [tjy.lighten_color(cmap(i), 0.6) for i in range(int(cmap.N*0.80))] # extract all colors from the .jet map\n",
    "print(cmaplist[-1])"
   ]
  },
  {
   "cell_type": "code",
   "execution_count": null,
   "metadata": {
    "id": "Xlf7uFtis8DV"
   },
   "outputs": [],
   "source": [
    "def find_charge_change(seq_dydx, seq_normset):\n",
    "  prev = -1\n",
    "  prev_count = 0\n",
    "  change_s = []\n",
    "  for (count, i) in enumerate(seq_dydx):\n",
    "    curr = 0\n",
    "    for j in range(len(seq_normset)-1): \n",
    "      if seq_normset[j] <= i < seq_normset[j+1]: curr = j\n",
    "      if j+1 == len(seq_normset)-1: \n",
    "        if seq_normset[j] <= i <= seq_normset[j+1]: curr = j\n",
    "      \n",
    "    if (curr != prev) & (count!=0): \n",
    "      change_s += [count]\n",
    "      prev_count = count\n",
    "    prev = curr\n",
    "  change_s += [len(dydx)]\n",
    "  return change_s"
   ]
  },
  {
   "cell_type": "code",
   "execution_count": 6,
   "metadata": {
    "id": "vO-aKfmR2NB_"
   },
   "outputs": [
    {
     "ename": "NameError",
     "evalue": "name 'H_seq' is not defined",
     "output_type": "error",
     "traceback": [
      "\u001b[1;31m---------------------------------------------------------------------------\u001b[0m",
      "\u001b[1;31mNameError\u001b[0m                                 Traceback (most recent call last)",
      "Cell \u001b[1;32mIn [6], line 4\u001b[0m\n\u001b[0;32m      1\u001b[0m \u001b[38;5;66;03m#Custom block monomers\u001b[39;00m\n\u001b[0;32m      3\u001b[0m M_NsK_s \u001b[38;5;241m=\u001b[39m [\u001b[38;5;28mround\u001b[39m(\u001b[38;5;28mlen\u001b[39m(M_seq)\u001b[38;5;241m/\u001b[39m\u001b[38;5;241m5\u001b[39m), \u001b[38;5;28mround\u001b[39m(\u001b[38;5;241m2\u001b[39m\u001b[38;5;241m*\u001b[39m\u001b[38;5;28mlen\u001b[39m(M_seq)\u001b[38;5;241m/\u001b[39m\u001b[38;5;241m5\u001b[39m), \u001b[38;5;28mround\u001b[39m(\u001b[38;5;241m3\u001b[39m\u001b[38;5;241m*\u001b[39m\u001b[38;5;28mlen\u001b[39m(M_seq)\u001b[38;5;241m/\u001b[39m\u001b[38;5;241m5\u001b[39m), \u001b[38;5;28mround\u001b[39m(\u001b[38;5;241m4\u001b[39m\u001b[38;5;241m*\u001b[39m\u001b[38;5;28mlen\u001b[39m(M_seq)\u001b[38;5;241m/\u001b[39m\u001b[38;5;241m5\u001b[39m), \u001b[38;5;28mlen\u001b[39m(M_seq)]\n\u001b[1;32m----> 4\u001b[0m H_NsK_s \u001b[38;5;241m=\u001b[39m [\u001b[38;5;28mround\u001b[39m(\u001b[38;5;28mlen\u001b[39m(H_seq)\u001b[38;5;241m/\u001b[39m\u001b[38;5;241m5\u001b[39m), \u001b[38;5;28mround\u001b[39m(\u001b[38;5;241m2\u001b[39m\u001b[38;5;241m*\u001b[39m\u001b[38;5;28mlen\u001b[39m(H_seq)\u001b[38;5;241m/\u001b[39m\u001b[38;5;241m5\u001b[39m), \u001b[38;5;28mround\u001b[39m(\u001b[38;5;241m3\u001b[39m\u001b[38;5;241m*\u001b[39m\u001b[38;5;28mlen\u001b[39m(H_seq)\u001b[38;5;241m/\u001b[39m\u001b[38;5;241m5\u001b[39m), \u001b[38;5;28mround\u001b[39m(\u001b[38;5;241m4\u001b[39m\u001b[38;5;241m*\u001b[39m\u001b[38;5;28mlen\u001b[39m(H_seq)\u001b[38;5;241m/\u001b[39m\u001b[38;5;241m5\u001b[39m), \u001b[38;5;28mlen\u001b[39m(H_seq)]\n\u001b[0;32m      6\u001b[0m M_NsK \u001b[38;5;241m=\u001b[39m [M_NsK_s[\u001b[38;5;241m0\u001b[39m]] \u001b[38;5;241m+\u001b[39m [M_NsK_s[i\u001b[38;5;241m+\u001b[39m\u001b[38;5;241m1\u001b[39m] \u001b[38;5;241m-\u001b[39m M_NsK_s[i] \u001b[38;5;28;01mfor\u001b[39;00m i \u001b[38;5;129;01min\u001b[39;00m \u001b[38;5;28mrange\u001b[39m(\u001b[38;5;28mlen\u001b[39m(M_NsK_s)\u001b[38;5;241m-\u001b[39m\u001b[38;5;241m1\u001b[39m)] \n\u001b[0;32m      7\u001b[0m H_NsK \u001b[38;5;241m=\u001b[39m [H_NsK_s[\u001b[38;5;241m0\u001b[39m]] \u001b[38;5;241m+\u001b[39m [H_NsK_s[i\u001b[38;5;241m+\u001b[39m\u001b[38;5;241m1\u001b[39m] \u001b[38;5;241m-\u001b[39m H_NsK_s[i] \u001b[38;5;28;01mfor\u001b[39;00m i \u001b[38;5;129;01min\u001b[39;00m \u001b[38;5;28mrange\u001b[39m(\u001b[38;5;28mlen\u001b[39m(H_NsK_s)\u001b[38;5;241m-\u001b[39m\u001b[38;5;241m1\u001b[39m)]\n",
      "\u001b[1;31mNameError\u001b[0m: name 'H_seq' is not defined"
     ]
    }
   ],
   "source": [
    "#Custom block monomers\n",
    "\n",
    "M_NsK_s = [round(len(M_seq)/5), round(2*len(M_seq)/5), round(3*len(M_seq)/5), round(4*len(M_seq)/5), len(M_seq)]\n",
    "H_NsK_s = [round(len(H_seq)/5), round(2*len(H_seq)/5), round(3*len(H_seq)/5), round(4*len(H_seq)/5), len(H_seq)]\n",
    "\n",
    "M_NsK = [M_NsK_s[0]] + [M_NsK_s[i+1] - M_NsK_s[i] for i in range(len(M_NsK_s)-1)] \n",
    "H_NsK = [H_NsK_s[0]] + [H_NsK_s[i+1] - H_NsK_s[i] for i in range(len(H_NsK_s)-1)] "
   ]
  },
  {
   "cell_type": "code",
   "execution_count": 7,
   "metadata": {
    "colab": {
     "base_uri": "https://localhost:8080/",
     "height": 709
    },
    "id": "iOhHH3qT3GTu",
    "outputId": "f0a65bfe-8311-4fad-f8dc-9eb955d3cc67"
   },
   "outputs": [
    {
     "ename": "NameError",
     "evalue": "name 'Discr_cumsum_ph' is not defined",
     "output_type": "error",
     "traceback": [
      "\u001b[1;31m---------------------------------------------------------------------------\u001b[0m",
      "\u001b[1;31mNameError\u001b[0m                                 Traceback (most recent call last)",
      "Cell \u001b[1;32mIn [7], line 19\u001b[0m\n\u001b[0;32m     16\u001b[0m smear \u001b[38;5;241m=\u001b[39m \u001b[38;5;241m36\u001b[39m\n\u001b[0;32m     17\u001b[0m block_N \u001b[38;5;241m=\u001b[39m \u001b[38;5;241m4\u001b[39m\n\u001b[1;32m---> 19\u001b[0m [lc, dydx, norm_set] \u001b[38;5;241m=\u001b[39m Discr_cumsum_ph(seq, block_N, smear, ph, phos)\n\u001b[0;32m     20\u001b[0m line \u001b[38;5;241m=\u001b[39m ax2\u001b[38;5;241m.\u001b[39madd_collection(lc) \u001b[38;5;66;03m#Cumsum Data\u001b[39;00m\n\u001b[0;32m     22\u001b[0m \u001b[38;5;66;03m## Scientific Notation with Spec. Precision\u001b[39;00m\n",
      "\u001b[1;31mNameError\u001b[0m: name 'Discr_cumsum_ph' is not defined"
     ]
    },
    {
     "data": {
      "image/png": "[encoded data removed]",
      "text/plain": [
       "<Figure size 640x480 with 1 Axes>"
      ]
     },
     "metadata": {},
     "output_type": "display_data"
    }
   ],
   "source": [
    "ph = 7.44\n",
    "seq = H_final\n",
    "phos = True\n",
    "\n",
    "# f, [ax1, ax2] = plt.subplots(nrows = 1, ncols = 2, figsize=(18, 6.5))\n",
    "f , ax2 = plt.subplots(nrows = 1, ncols = 1)\n",
    "# ax1.axes.plot(charge_dist_ph(seq, ph), \"x\", ms=10, mew=3,color=cool_blue, alpha=0.6)\n",
    "# ax1.axes.plot(Norm_cumsum_ph(seq, ph), color=cool_blue, lw=3)\n",
    "# ax1.set_title('Raw Sequence', fontweight=\"bold\")\n",
    "# ax1.set_xlabel(\"AA Sequence Count\")\n",
    "# ax1.set_ylabel(\"AA Charge\")\n",
    "# ax1.legend([\"AA\", \"Charge Cumulative Sum\"],bbox_to_anchor=(0.01, 0.92), loc=\"upper left\",fontsize=18,frameon=False)\n",
    "\n",
    "ax2.plot(charge_dist_ph(seq, ph, phos), 'x', color='0.8', zorder = 0, mew=1) #Raw Data\n",
    "\n",
    "smear = 36\n",
    "block_N = 4\n",
    "\n",
    "[lc, dydx, norm_set] = Discr_cumsum_ph(seq, block_N, smear, ph, phos)\n",
    "line = ax2.add_collection(lc) #Cumsum Data\n",
    "\n",
    "## Scientific Notation with Spec. Precision\n",
    "class ScalarFormatterClass(ticker.ScalarFormatter):\n",
    "   def _set_format(self):\n",
    "      self.format = \"$%1.1f$\" # New precision\n",
    "\n",
    "yScalarFormatter = ScalarFormatterClass(useMathText=True)\n",
    "yScalarFormatter.set_powerlimits((0,0))\n",
    "cb=f.colorbar(line, label = 'Cusum Slope', format=yScalarFormatter)\n",
    "cb.ax.yaxis.OFFSETTEXTPAD = 8 # Top padding of sci not\n",
    "cb.ax.yaxis.set_offset_position('left')\n",
    "cb.ax.yaxis.offsetText.set_fontsize(16)\n",
    "cb.ax.yaxis.offsetText.set_fontfamily('Serif')\n",
    "cb.ax.tick_params(labelsize=16, direction='out')\n",
    "cb.update_ticks()\n",
    "\n",
    "NsK_s = find_charge_change(dydx, norm_set)\n",
    "NsK = [NsK_s[0]] + [NsK_s[i+1] - NsK_s[i] for i in range(len(NsK_s)-1)] #Convert to length of each block\n",
    "ax2.plot(find_charge_avg_ph(seq, NsK, ph, phos),  '-', color=warm_red, lw=3, zorder = 10) #Final Charge Dist\n",
    "\n",
    "#ax2.set_title(\"Block_N={:d}, \".format(block_N)+ r\"$\\mathbf{Avg_{smear}}$\"+\" ={:d} points, \".format(smear)+\"pH={:.2f}\".format(ph), fontweight='bold')\n",
    "# ax2.set_title(\"NFH, pH = {:.2f}\".format(ph))\n",
    "ax2.set_xlabel(\"Residue Number\")\n",
    "ax2.set_ylabel(\"Charge \"r\"$(e)$\")\n",
    "tjy.ticks()\n",
    "\n",
    "custom_legend = [\n",
    "                  # Line2D([0], [0], color=warm_red, ls ='-', lw=3),\n",
    "                  # Patch(color=cool_blue),\n",
    "                  Line2D([0], [0], color='0.8', marker='x', ls='', mew=1)\n",
    "                ]\n",
    "ax2.legend(custom_legend,[\"Residue\"],bbox_to_anchor=(0.01, 0.95), loc=\"upper left\",frameon=False)\n",
    "# plt.savefig('./imgs/NFH_disc.eps')\n",
    "\n",
    "rect_size = (11/0.75, 1.1) #NFL: (4, 1.5) #NFH: (11/0.75, 1.1)\n",
    "f = plt.figure(figsize=rect_size)\n",
    "\n",
    "plt.plot(find_charge_avg_ph(seq, NsK, ph, phos),  '-', color=warm_red, lw=8) #Final Charge Dist\n",
    "plt.axis('off')\n",
    "\n",
    "plt.plot(find_chi_avg(seq, NsK),  '--', color=warm_red, lw=8) #Final Charge Dist\n",
    "# plt.axis('off')\n",
    "# plt.savefig('H_chi.png', transparent='true')\n",
    "plt.show()"
   ]
  },
  {
   "cell_type": "code",
   "execution_count": 8,
   "metadata": {
    "colab": {
     "base_uri": "https://localhost:8080/",
     "height": 384
    },
    "id": "osKD2w6VQh9B",
    "outputId": "0aed3b88-25a9-4de8-a097-cced7ad5568d"
   },
   "outputs": [
    {
     "ename": "NameError",
     "evalue": "name 'H_seq' is not defined",
     "output_type": "error",
     "traceback": [
      "\u001b[1;31m---------------------------------------------------------------------------\u001b[0m",
      "\u001b[1;31mNameError\u001b[0m                                 Traceback (most recent call last)",
      "Cell \u001b[1;32mIn [8], line 1\u001b[0m\n\u001b[1;32m----> 1\u001b[0m sequence \u001b[38;5;241m=\u001b[39m H_seq\n\u001b[0;32m      2\u001b[0m ph \u001b[38;5;241m=\u001b[39m \u001b[38;5;241m7.44\u001b[39m\n\u001b[0;32m      3\u001b[0m phos \u001b[38;5;241m=\u001b[39m \u001b[38;5;28;01mFalse\u001b[39;00m \n",
      "\u001b[1;31mNameError\u001b[0m: name 'H_seq' is not defined"
     ]
    }
   ],
   "source": [
    "sequence = H_seq\n",
    "ph = 7.44\n",
    "phos = False \n",
    "r = 10\n",
    "\n",
    "f, [pax,ax] = plt.subplots(2,1,figsize=(12,2), gridspec_kw={'height_ratios': [1, r]})\n",
    "cmap = plt.cm.bwr #CHOOSE CMAP TYPE\n",
    "cmaplist = [cmap(i) for i in range(cmap.N)] # extract all colors from the cmap\n",
    "cmap = mpl.colors.LinearSegmentedColormap.from_list('Custom cmap', cmaplist, cmap.N) #new cmap\n",
    "norm_set = np.linspace(-1,1,6)\n",
    "norm = BoundaryNorm(norm_set, cmap.N)\n",
    "pnorm_set = [-1.51,-1.49, 1.1, 1.2]\n",
    "pnorm = BoundaryNorm(pnorm_set, cmap.N)\n",
    "\n",
    "# # Plot Raw\n",
    "a = charge_dist_ph(sequence, ph, phos)\n",
    "mask = np.array(a) < -1.4\n",
    "tdata = [a[i] if mask[i] else 0 for i in range(len(a))]\n",
    "pim = pax.imshow([tdata], cmap, norm=norm, aspect=75/r)  \n",
    "im = ax.imshow([a], cmap, norm, aspect=75)  \n",
    "\n",
    "# Plot charge dist\n",
    "smear = 31\n",
    "block_N = 4\n",
    "[lc, dydx, norm_set] = Discr_cumsum_ph(sequence, block_N, smear, ph, phos)\n",
    "NsK_s = find_charge_change(dydx, norm_set)\n",
    "NsK = [NsK_s[0]] + [NsK_s[i+1] - NsK_s[i] for i in range(len(NsK_s)-1)] #Convert to length of each block\n",
    "plt.plot(np.array(find_charge_avg_ph(sequence, NsK, ph, phos))+0.3,  '-', color=warm_red, lw=4) #Final Charge Dist\n",
    "\n",
    "# Formatting\n",
    "if  sequence == L_seq: \n",
    "    pax.set_xlim((0, 157))\n",
    "    ax.set_xlim((0, 157))\n",
    "    plt.sca(ax)\n",
    "    plt.xticks(np.arange(0, 157, 50), fontsize=\"20\")\n",
    "elif sequence == H_seq: \n",
    "    pax.set_xlim((0, 650))\n",
    "    ax.set_xlim((0, 650))\n",
    "    plt.sca(ax)\n",
    "    plt.xticks(np.arange(0, 650, 150), fontsize=\"20\")\n",
    "\n",
    "plt.xlabel(\"Residue Number\", fontsize=\"24\", labelpad=15)\n",
    "f.text(0.0, 1.10, 'P', fontsize= \"10\", fontweight='bold', transform=ax.transAxes)\n",
    "f.set_facecolor(\"white\")\n",
    "\n",
    "for axis in ['top','bottom','left','right']:\n",
    "    pax.spines[axis].set_linewidth(0)\n",
    "    ax.spines[axis].set_linewidth(2)\n",
    "ax.get_yaxis().set_visible(False)\n",
    "ax.set_ylim(-0.3, 0.5)\n",
    "pax.get_yaxis().set_visible(False)\n",
    "pax.get_xaxis().set_visible(False)\n",
    "tjy.ticks()\n",
    "\n",
    "# plt.savefig('./imgs/NFH_raw.png', dpi=1600)\n",
    "# f.colorbar(pim)\n",
    "# f.colorbar(im)\n",
    "if sequence == L_seq:      plt.subplots_adjust(hspace= 0.15)\n",
    "elif sequence == H_seq: plt.subplots_adjust(hspace=-0.2)\n",
    "\n",
    "plt.show()"
   ]
  },
  {
   "cell_type": "code",
   "execution_count": 9,
   "metadata": {},
   "outputs": [
    {
     "name": "stdout",
     "output_type": "stream",
     "text": [
      "[False False False False  True]\n"
     ]
    },
    {
     "data": {
      "image/png": "[encoded data removed]",
      "text/plain": [
       "<Figure size 1200x200 with 2 Axes>"
      ]
     },
     "metadata": {},
     "output_type": "display_data"
    }
   ],
   "source": [
    "r = 10\n",
    "f, [t, b] = plt.subplots(2,1, figsize=(12, 2), gridspec_kw={'height_ratios': [1, r], 'hspace': 0.1})\n",
    "data = [1,0,0,1,-1]\n",
    "print(np.array(data) < 0)\n",
    "mask = np.array(data) < 0\n",
    "\n",
    "tdata = [data[i] if mask[i] else 0 for i in range(len(data))]\n",
    "t.imshow([tdata], cmap = plt.cm.bwr, aspect=2/r, vmax = 1)\n",
    "b.imshow([data], cmap = plt.cm.bwr, aspect=2)\n",
    "\n",
    "plt.show()"
   ]
  },
  {
   "cell_type": "code",
   "execution_count": 10,
   "metadata": {
    "colab": {
     "base_uri": "https://localhost:8080/",
     "height": 543
    },
    "id": "VjVyjwXJN6OU",
    "outputId": "f6f679f3-9a4d-431e-8346-d855bfc62639"
   },
   "outputs": [
    {
     "ename": "NameError",
     "evalue": "name 'H_NsK' is not defined",
     "output_type": "error",
     "traceback": [
      "\u001b[1;31m---------------------------------------------------------------------------\u001b[0m",
      "\u001b[1;31mNameError\u001b[0m                                 Traceback (most recent call last)",
      "Cell \u001b[1;32mIn [10], line 2\u001b[0m\n\u001b[0;32m      1\u001b[0m f \u001b[38;5;241m=\u001b[39m plt\u001b[38;5;241m.\u001b[39mfigure(figsize\u001b[38;5;241m=\u001b[39m(\u001b[38;5;241m25\u001b[39m, \u001b[38;5;241m2.2\u001b[39m))\n\u001b[1;32m----> 2\u001b[0m \u001b[38;5;28mprint\u001b[39m(H_NsK)\n\u001b[0;32m      3\u001b[0m \u001b[38;5;66;03m#H_NsK_new = [29, 87, 145, 116, 29, 87, 154]\u001b[39;00m\n\u001b[0;32m      4\u001b[0m dx \u001b[38;5;241m=\u001b[39m \u001b[38;5;241m35\u001b[39m\n",
      "\u001b[1;31mNameError\u001b[0m: name 'H_NsK' is not defined"
     ]
    },
    {
     "data": {
      "text/plain": [
       "<Figure size 2500x220 with 0 Axes>"
      ]
     },
     "metadata": {},
     "output_type": "display_data"
    }
   ],
   "source": [
    "f = plt.figure(figsize=(25, 2.2))\n",
    "print(H_NsK)\n",
    "#H_NsK_new = [29, 87, 145, 116, 29, 87, 154]\n",
    "dx = 35\n",
    "H_NsK_new = [29, 87+40, 145-40, 116, 29+dx, 87-dx, 154]\n",
    "plt.plot(find_charge_avg_ph(H_seq, H_NsK_new, ph),  '-', color=warm_red, lw=8) #Final Charge Dist\n",
    "plt.axis('off')\n",
    "plt.show()\n",
    "f = plt.figure(figsize=(25, 2.2))\n",
    "plt.plot(find_chi_avg(H_seq, H_NsK),  '--', color=warm_red, lw=8) #Final Charge Dist\n",
    "plt.axis('off')\n",
    "plt.show()"
   ]
  },
  {
   "cell_type": "code",
   "execution_count": 11,
   "metadata": {
    "colab": {
     "base_uri": "https://localhost:8080/",
     "height": 691
    },
    "id": "GZD07M6B5adc",
    "outputId": "be7fa192-69a8-4f70-e089-019211855aca"
   },
   "outputs": [
    {
     "ename": "NameError",
     "evalue": "name 'Norm_cumsum_ph' is not defined",
     "output_type": "error",
     "traceback": [
      "\u001b[1;31m---------------------------------------------------------------------------\u001b[0m",
      "\u001b[1;31mNameError\u001b[0m                                 Traceback (most recent call last)",
      "Cell \u001b[1;32mIn [11], line 7\u001b[0m\n\u001b[0;32m      5\u001b[0m f, [ax1, ax2] \u001b[38;5;241m=\u001b[39m plt\u001b[38;5;241m.\u001b[39msubplots(nrows \u001b[38;5;241m=\u001b[39m \u001b[38;5;241m1\u001b[39m, ncols \u001b[38;5;241m=\u001b[39m \u001b[38;5;241m2\u001b[39m, figsize\u001b[38;5;241m=\u001b[39m(\u001b[38;5;241m18\u001b[39m, \u001b[38;5;241m6.5\u001b[39m))\n\u001b[0;32m      6\u001b[0m ax1\u001b[38;5;241m.\u001b[39maxes\u001b[38;5;241m.\u001b[39mplot(charge_dist_ph(seq, ph), \u001b[38;5;124m\"\u001b[39m\u001b[38;5;124mx\u001b[39m\u001b[38;5;124m\"\u001b[39m, ms\u001b[38;5;241m=\u001b[39m\u001b[38;5;241m10\u001b[39m, mew\u001b[38;5;241m=\u001b[39m\u001b[38;5;241m3\u001b[39m,color\u001b[38;5;241m=\u001b[39mcool_blue, alpha\u001b[38;5;241m=\u001b[39m\u001b[38;5;241m0.6\u001b[39m)\n\u001b[1;32m----> 7\u001b[0m ax1\u001b[38;5;241m.\u001b[39maxes\u001b[38;5;241m.\u001b[39mplot(Norm_cumsum_ph(seq, ph), color\u001b[38;5;241m=\u001b[39mcool_blue, lw\u001b[38;5;241m=\u001b[39m\u001b[38;5;241m4\u001b[39m)\n\u001b[0;32m      8\u001b[0m ax1\u001b[38;5;241m.\u001b[39mset_title(\u001b[38;5;124m'\u001b[39m\u001b[38;5;124mCusum\u001b[39m\u001b[38;5;124m'\u001b[39m)\n\u001b[0;32m      9\u001b[0m ax1\u001b[38;5;241m.\u001b[39mset_xlabel(\u001b[38;5;124m\"\u001b[39m\u001b[38;5;124mAA Sequence Count\u001b[39m\u001b[38;5;124m\"\u001b[39m)\n",
      "\u001b[1;31mNameError\u001b[0m: name 'Norm_cumsum_ph' is not defined"
     ]
    },
    {
     "data": {
      "image/png": "[encoded data removed]",
      "text/plain": [
       "<Figure size 1800x650 with 2 Axes>"
      ]
     },
     "metadata": {},
     "output_type": "display_data"
    }
   ],
   "source": [
    "ph = 10\n",
    "# seq = L_seq\n",
    "seq = 'HHHHHHHHHHHHHHHHDDDDDDDDDDDDDDDDDDDDDDDDDDDDDDKDDDHHKKDDDHHKKDDDHHKKDDDHHKKDDDHHKKDDDHHKKDDDHHKKDDDHHKKDDDHHKKDDDHHK'\n",
    "\n",
    "f, [ax1, ax2] = plt.subplots(nrows = 1, ncols = 2, figsize=(18, 6.5))\n",
    "ax1.axes.plot(charge_dist_ph(seq, ph), \"x\", ms=10, mew=3,color=cool_blue, alpha=0.6)\n",
    "ax1.axes.plot(Norm_cumsum_ph(seq, ph), color=cool_blue, lw=4)\n",
    "ax1.set_title('Cusum')\n",
    "ax1.set_xlabel(\"AA Sequence Count\")\n",
    "ax1.set_ylabel(\"Charge \"r\"$(e)$\")\n",
    "ax1.legend([\"AA\", \"Charge Cumulative Sum\"],bbox_to_anchor=(0.01, 0.92), loc=\"upper left\",fontsize=18,frameon=False)\n",
    "ax1.set_yticks([-1.0, -0.5, 0, 0.5, 1])\n",
    "\n",
    "#########\n",
    "ax2.axes.plot(charge_dist_ph(seq, ph), \"x\", ms=10, mew=3,color=cool_blue, alpha=0.3)\n",
    "smear = 16\n",
    "block_N = 3\n",
    "\n",
    "[lc, dydx, norm_set] = Discr_cumsum_ph(seq, block_N, smear, ph)\n",
    "lc.set_alpha(0.75)\n",
    "line = ax2.add_collection(lc) #Cumsum Data\n",
    "f1 = ticker.ScalarFormatter(useOffset=False, useMathText=True)\n",
    "f1.set_scientific(True)\n",
    "g1 = lambda x,pos : \"${}$\".format(f1._formatSciNotation('%.0e' % x))\n",
    "f.colorbar(line, label = \"Cusum Slope\".format(block_N), \n",
    "           format = ticker.FuncFormatter(g1), ax=ax2)\n",
    "\n",
    "NsK_s = find_charge_change(dydx, norm_set)\n",
    "NsK = [NsK_s[0]] + [NsK_s[i+1] - NsK_s[i] for i in range(len(NsK_s)-1)] #Convert to length of each block\n",
    "ax2.plot(find_charge_avg_ph(seq, NsK, ph),  '-', color=warm_red, lw=4, zorder = 10) #Final Charge Dist\n",
    "\n",
    "#ax2.set_title(\"Block_N={:d}, \".format(block_N)+ r\"$\\mathbf{Avg_{smear}}$\"+\" ={:d} points, \".format(smear)+\"pH={:.2f}\".format(ph), fontweight='bold')\n",
    "ax2.set_title(\"Final Charge Distribution\")\n",
    "ax2.set_xlabel(\"AA Sequence Count\")\n",
    "ax2.set_ylabel(\"Charge \"r\"$(e)$\")\n",
    "ax2.set_yticks([-1.0, -0.5, 0, 0.5, 1])\n",
    "\n",
    "custom_legend = [\n",
    "                  # Line2D([0], [0], color=warm_red, ls ='-', lw=3),\n",
    "                  Line2D([0], [0], color=cool_blue, marker='x', ls='', ms=10, mew=3, alpha=0.3),\n",
    "                  Patch(color=cool_blue),\n",
    "                  Line2D([0], [0], color=warm_red, ls ='-', lw=3), \n",
    "                  \n",
    "\n",
    "                ]\n",
    "ax2.legend(custom_legend,[\"AA\",\"Mapped Cum. Charge\",r\"Final $\\alpha_{i}$\"],bbox_to_anchor=(0.01, 0.92), loc=\"upper left\",fontsize=18,frameon=False)\n",
    "# ax2.legend(custom_legend,[r\"Final $\\alpha_{i}$\", \"Mapped Cum. Charge\",\"Individual Residue\"],bbox_to_anchor=(0.01, 0.92), fontsize=18,loc=\"upper left\",frameon=False)\n",
    "\n",
    "rect_size = (11/0.75, 1.1) #NFL: (4, 1.5) #NFH: (11/0.75, 1.1)\n",
    "f = plt.figure(figsize=rect_size)\n",
    "\n",
    "plt.plot(find_charge_avg_ph(seq, NsK, ph),  '-', color=warm_red, lw=8) #Final Charge Dist\n",
    "plt.axis('off')\n",
    "plt.savefig('H_charge.png', transparent='true')\n",
    "\n",
    "plt.plot(find_chi_avg(seq, NsK),  '--', color=warm_red, lw=8) #Final Charge Dist\n",
    "plt.axis('off')\n",
    "# plt.savefig('H_chi.png', transparent='true')\n",
    "\n",
    "plt.show()"
   ]
  },
  {
   "cell_type": "code",
   "execution_count": 12,
   "metadata": {
    "id": "rZrf-nowHZTg"
   },
   "outputs": [],
   "source": [
    "def print_aa_str(sequence, sequence_s):\n",
    "  prev = 0\n",
    "  count = 1 \n",
    "  for i in sequence_s:\n",
    "    print(\"  Block {}: [{},{}]: {}\".format(count, prev, i, sequence[prev:i]))\n",
    "    print(\"    Length: {:.2f} nm\".format(L_NsK[count-1]*aa_b))\n",
    "    prev = i\n",
    "    count += 1\n",
    "  return\n",
    "\n",
    "#print(\"NFLSA\")\n",
    "#print_aa_str(L_seq, L_NsK_s)\n",
    "#print(\"NMLSA\")\n",
    "#print_aa_str(M_seq, M_NsK_s)\n",
    "#print(\"NHLSA\")\n",
    "#print_aa_str(H_seq, H_NsK_s)"
   ]
  },
  {
   "cell_type": "code",
   "execution_count": 13,
   "metadata": {
    "colab": {
     "base_uri": "https://localhost:8080/",
     "height": 105
    },
    "id": "I9khRj7RGk0e",
    "outputId": "06a0f66b-9678-466d-c5e4-a468301619a5"
   },
   "outputs": [
    {
     "data": {
      "text/plain": [
       "\"\\n#Custom block monomers\\n##Zhulina\\nL_NsK_s = [50, 156] #Zhulina 2007 Charge: [0, -0.254]\\nM_NsK_s = [448] #Zhulina 2007 Charge: [-0.103]\\nH_NsK_s = [100, 607] #Zhulina 2007 Charge: [-0.230, 0.043]\\nH_NsK_s = [607]\\n\\nL_NsK = [L_NsK_s[0]] + [L_NsK_s[i+1] - L_NsK_s[i] for i in range(len(L_NsK_s)-1)] \\nM_NsK = [M_NsK_s[0]] + [M_NsK_s[i+1] - M_NsK_s[i] for i in range(len(M_NsK_s)-1)] \\nH_NsK = [H_NsK_s[0]] + [H_NsK_s[i+1] - H_NsK_s[i] for i in range(len(H_NsK_s)-1)] \\n\\nrect_size = (10.5/0.75, 0.76)\\nf = plt.figure(figsize=rect_size)\\n\\nplt.plot(find_charge_avg(L_seq, L_NsK),  '-', color=warm_red, lw=8) #Final Charge Dist\\nplt.axis('off')\\nplt.savefig('check.png', transparent='true')\\n\\nplt.plot(find_chi_avg(L_seq, L_NsK),  '--', color=warm_red, lw=8) #Final Charge Dist\\nplt.axis('off')\\nplt.savefig('check.png', transparent='true')\\n\\nplt.show()\\n\\n#plt.plot(find_charge_avg_ph(H_seq, H_NsK, 2.4),  '-', color=warm_red, lw=8) #Final Charge Dist\\n#plt.axis('off')\\n#plt.savefig('check.png', transparent='true')\\n\\n#plt.plot(find_chi_avg(H_seq, H_NsK),  '--', color=warm_red, lw=8) #Final Charge Dist\\n#plt.axis('off')\\n#plt.savefig('check.png', transparent='true')\\n\\n#plt.show()\\n\""
      ]
     },
     "execution_count": 13,
     "metadata": {},
     "output_type": "execute_result"
    }
   ],
   "source": [
    "\"\"\"\n",
    "#Custom block monomers\n",
    "##Zhulina\n",
    "L_NsK_s = [50, 156] #Zhulina 2007 Charge: [0, -0.254]\n",
    "M_NsK_s = [448] #Zhulina 2007 Charge: [-0.103]\n",
    "H_NsK_s = [100, 607] #Zhulina 2007 Charge: [-0.230, 0.043]\n",
    "H_NsK_s = [607]\n",
    "\n",
    "L_NsK = [L_NsK_s[0]] + [L_NsK_s[i+1] - L_NsK_s[i] for i in range(len(L_NsK_s)-1)] \n",
    "M_NsK = [M_NsK_s[0]] + [M_NsK_s[i+1] - M_NsK_s[i] for i in range(len(M_NsK_s)-1)] \n",
    "H_NsK = [H_NsK_s[0]] + [H_NsK_s[i+1] - H_NsK_s[i] for i in range(len(H_NsK_s)-1)] \n",
    "\n",
    "rect_size = (10.5/0.75, 0.76)\n",
    "f = plt.figure(figsize=rect_size)\n",
    "\n",
    "plt.plot(find_charge_avg(L_seq, L_NsK),  '-', color=warm_red, lw=8) #Final Charge Dist\n",
    "plt.axis('off')\n",
    "plt.savefig('check.png', transparent='true')\n",
    "\n",
    "plt.plot(find_chi_avg(L_seq, L_NsK),  '--', color=warm_red, lw=8) #Final Charge Dist\n",
    "plt.axis('off')\n",
    "plt.savefig('check.png', transparent='true')\n",
    "\n",
    "plt.show()\n",
    "\n",
    "#plt.plot(find_charge_avg_ph(H_seq, H_NsK, 2.4),  '-', color=warm_red, lw=8) #Final Charge Dist\n",
    "#plt.axis('off')\n",
    "#plt.savefig('check.png', transparent='true')\n",
    "\n",
    "#plt.plot(find_chi_avg(H_seq, H_NsK),  '--', color=warm_red, lw=8) #Final Charge Dist\n",
    "#plt.axis('off')\n",
    "#plt.savefig('check.png', transparent='true')\n",
    "\n",
    "#plt.show()\n",
    "\"\"\""
   ]
  },
  {
   "cell_type": "code",
   "execution_count": 14,
   "metadata": {
    "colab": {
     "base_uri": "https://localhost:8080/",
     "height": 465
    },
    "id": "l6a9SuwNbOrW",
    "outputId": "62afd5d4-2c94-47a2-dd8b-aa39fee0777d"
   },
   "outputs": [
    {
     "ename": "NameError",
     "evalue": "name 'H_seq' is not defined",
     "output_type": "error",
     "traceback": [
      "\u001b[1;31m---------------------------------------------------------------------------\u001b[0m",
      "\u001b[1;31mNameError\u001b[0m                                 Traceback (most recent call last)",
      "Cell \u001b[1;32mIn [14], line 10\u001b[0m\n\u001b[0;32m      8\u001b[0m L_FH \u001b[38;5;241m=\u001b[39m [i \u001b[38;5;28;01mfor\u001b[39;00m i \u001b[38;5;129;01min\u001b[39;00m L_seq \u001b[38;5;28;01mif\u001b[39;00m i\u001b[38;5;241m!=\u001b[39m(\u001b[38;5;124m'\u001b[39m\u001b[38;5;124mE\u001b[39m\u001b[38;5;124m'\u001b[39m\u001b[38;5;129;01mor\u001b[39;00m\u001b[38;5;124m'\u001b[39m\u001b[38;5;124mD\u001b[39m\u001b[38;5;124m'\u001b[39m\u001b[38;5;129;01mor\u001b[39;00m\u001b[38;5;124m'\u001b[39m\u001b[38;5;124mN\u001b[39m\u001b[38;5;124m'\u001b[39m\u001b[38;5;129;01mor\u001b[39;00m\u001b[38;5;124m'\u001b[39m\u001b[38;5;124mK\u001b[39m\u001b[38;5;124m'\u001b[39m\u001b[38;5;129;01mor\u001b[39;00m\u001b[38;5;124m'\u001b[39m\u001b[38;5;124mR\u001b[39m\u001b[38;5;124m'\u001b[39m)]\n\u001b[0;32m      9\u001b[0m M_FH \u001b[38;5;241m=\u001b[39m [i \u001b[38;5;28;01mfor\u001b[39;00m i \u001b[38;5;129;01min\u001b[39;00m M_seq \u001b[38;5;28;01mif\u001b[39;00m i\u001b[38;5;241m!=\u001b[39m(\u001b[38;5;124m'\u001b[39m\u001b[38;5;124mE\u001b[39m\u001b[38;5;124m'\u001b[39m\u001b[38;5;129;01mor\u001b[39;00m\u001b[38;5;124m'\u001b[39m\u001b[38;5;124mD\u001b[39m\u001b[38;5;124m'\u001b[39m\u001b[38;5;129;01mor\u001b[39;00m\u001b[38;5;124m'\u001b[39m\u001b[38;5;124mN\u001b[39m\u001b[38;5;124m'\u001b[39m\u001b[38;5;129;01mor\u001b[39;00m\u001b[38;5;124m'\u001b[39m\u001b[38;5;124mK\u001b[39m\u001b[38;5;124m'\u001b[39m\u001b[38;5;129;01mor\u001b[39;00m\u001b[38;5;124m'\u001b[39m\u001b[38;5;124mR\u001b[39m\u001b[38;5;124m'\u001b[39m)]\n\u001b[1;32m---> 10\u001b[0m H_FH \u001b[38;5;241m=\u001b[39m [i \u001b[38;5;28;01mfor\u001b[39;00m i \u001b[38;5;129;01min\u001b[39;00m H_seq \u001b[38;5;28;01mif\u001b[39;00m i\u001b[38;5;241m!=\u001b[39m(\u001b[38;5;124m'\u001b[39m\u001b[38;5;124mE\u001b[39m\u001b[38;5;124m'\u001b[39m\u001b[38;5;129;01mor\u001b[39;00m\u001b[38;5;124m'\u001b[39m\u001b[38;5;124mD\u001b[39m\u001b[38;5;124m'\u001b[39m\u001b[38;5;129;01mor\u001b[39;00m\u001b[38;5;124m'\u001b[39m\u001b[38;5;124mN\u001b[39m\u001b[38;5;124m'\u001b[39m\u001b[38;5;129;01mor\u001b[39;00m\u001b[38;5;124m'\u001b[39m\u001b[38;5;124mK\u001b[39m\u001b[38;5;124m'\u001b[39m\u001b[38;5;129;01mor\u001b[39;00m\u001b[38;5;124m'\u001b[39m\u001b[38;5;124mR\u001b[39m\u001b[38;5;124m'\u001b[39m)]\n\u001b[0;32m     12\u001b[0m Lc_FH \u001b[38;5;241m=\u001b[39m pd\u001b[38;5;241m.\u001b[39mSeries(L_FH)\u001b[38;5;241m.\u001b[39mvalue_counts()\u001b[38;5;241m.\u001b[39mmultiply(\u001b[38;5;241m0\u001b[39m)\n\u001b[0;32m     13\u001b[0m Mc_FH \u001b[38;5;241m=\u001b[39m pd\u001b[38;5;241m.\u001b[39mSeries(M_FH)\u001b[38;5;241m.\u001b[39mvalue_counts()\n",
      "\u001b[1;31mNameError\u001b[0m: name 'H_seq' is not defined"
     ]
    },
    {
     "data": {
      "image/png": "[encoded data removed]",
      "text/plain": [
       "<Figure size 933.3x700 with 1 Axes>"
      ]
     },
     "metadata": {},
     "output_type": "display_data"
    }
   ],
   "source": [
    "f, ax = plt.subplots(nrows = 1, ncols = 1, figsize=(9.333, 7))\n",
    "\n",
    "plt.rcParams[\"legend.fancybox\"] = False\n",
    "plt.rcParams[\"legend.fontsize\"] = 14\n",
    "plt.rcParams[\"legend.edgecolor\"] = '0.0'\n",
    "plt.rcParams[\"legend.borderaxespad\"] = 1.0\n",
    "\n",
    "L_FH = [i for i in L_seq if i!=('E'or'D'or'N'or'K'or'R')]\n",
    "M_FH = [i for i in M_seq if i!=('E'or'D'or'N'or'K'or'R')]\n",
    "H_FH = [i for i in H_seq if i!=('E'or'D'or'N'or'K'or'R')]\n",
    "\n",
    "Lc_FH = pd.Series(L_FH).value_counts().multiply(0)\n",
    "Mc_FH = pd.Series(M_FH).value_counts()\n",
    "Hc_FH = pd.Series(H_FH).value_counts().multiply(4)\n",
    "FH = pd.DataFrame([Lc_FH, Mc_FH, Hc_FH]).fillna(0)\n",
    "\n",
    "ax.set_title('0% NFL')\n",
    "ax.bar(FH.columns, FH.iloc[0,:], label='NFL')\n",
    "ax.bar(FH.columns, FH.iloc[2,:], bottom=FH.iloc[0,:], label='NFH')\n",
    "leg = plt.legend()\n",
    "leg.get_frame().set_linewidth(2.0)\n",
    "\n",
    "#plt.ylim([0,80])\n",
    "plt.show()"
   ]
  },
  {
   "cell_type": "code",
   "execution_count": null,
   "metadata": {},
   "outputs": [],
   "source": []
  },
  {
   "cell_type": "code",
   "execution_count": null,
   "metadata": {},
   "outputs": [],
   "source": []
  },
  {
   "cell_type": "code",
   "execution_count": null,
   "metadata": {},
   "outputs": [],
   "source": []
  }
 ],
 "metadata": {
  "colab": {
   "collapsed_sections": [],
   "provenance": []
  },
  "kernelspec": {
   "display_name": "Python 3 (ipykernel)",
   "language": "python",
   "name": "python3"
  },
  "language_info": {
   "codemirror_mode": {
    "name": "ipython",
    "version": 3
   },
   "file_extension": ".py",
   "mimetype": "text/x-python",
   "name": "python",
   "nbconvert_exporter": "python",
   "pygments_lexer": "ipython3",
   "version": "3.10.7"
  }
 },
 "nbformat": 4,
 "nbformat_minor": 4
}
