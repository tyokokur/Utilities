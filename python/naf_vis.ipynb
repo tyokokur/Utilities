{
 "cells": [
  {
   "cell_type": "code",
   "execution_count": 2,
   "id": "e5a16d61-cc5a-45e9-8a0f-07e5b6c48f01",
   "metadata": {},
   "outputs": [
    {
     "name": "stdout",
     "output_type": "stream",
     "text": [
      "tjy_udf:  ['CalcF', 'H_find', 'Heights', 'Kap_D', 'elread', 'get_fp', 'get_fs', 'git_sync', 'lighten_color', 'phread', 'phreadxyz', 'plot_anim', 'plot_pha', 'plot_pha_feed', 'ticks']\n"
     ]
    },
    {
     "data": {
      "text/plain": [
       "' If SSL error _ssl.c:997: \\n    pip install --upgrade certifi'"
      ]
     },
     "execution_count": 2,
     "metadata": {},
     "output_type": "execute_result"
    }
   ],
   "source": [
    "# Imports \n",
    "import numpy as np, pandas as pd, matplotlib.pyplot as plt, matplotlib as mpl\n",
    "import tjy_udf as tjy\n",
    "print(\"tjy_udf: \", list(filter(lambda x: '__' not in x, dir(tjy)))) # Print contained functions\n",
    "mpl.rc_file('tjy.mplstyle')\n",
    "\n",
    "pd.set_option('display.max_columns', 500)\n",
    "pd.set_option('display.width', 1000)\n",
    "pd.set_option('display.max_colwidth', None)\n",
    "DISPLAY_SORTED = True\n",
    "from matplotlib.lines import Line2D\n",
    "from matplotlib.patches import Patch\n",
    "from matplotlib import ticker\n",
    "from matplotlib.ticker import (AutoMinorLocator, MultipleLocator)\n",
    "from matplotlib import animation, rc\n",
    "    \n",
    "GIT = 'https://github.com/tyokokur/tmpdat/raw/main/naf/'\n",
    "''' If SSL error _ssl.c:997: \n",
    "    pip install --upgrade certifi'''"
   ]
  },
  {
   "cell_type": "code",
   "execution_count": 18,
   "id": "d9d79f49-4098-423e-8c54-40fb67f88e7c",
   "metadata": {},
   "outputs": [
    {
     "name": "stdout",
     "output_type": "stream",
     "text": [
      "5.8\n",
      "5.8\n",
      "5.8\n",
      "5.8\n",
      "5.8\n",
      "5.8\n",
      "5.8\n",
      "5.8\n"
     ]
    }
   ],
   "source": [
    "i = 'lx60.txt'\n",
    "data = pd.read_csv(GIT+i, names=['1', '2', '3', '4', '5', '6', '7', '8', '9', '10', '11', '12'], sep='\\s+')\n",
    "for i in range(len(data)): \n",
    "    if i%2: print(data.iloc[i, 0])"
   ]
  }
 ],
 "metadata": {
  "kernelspec": {
   "display_name": "Python 3 (ipykernel)",
   "language": "python",
   "name": "python3"
  },
  "language_info": {
   "codemirror_mode": {
    "name": "ipython",
    "version": 3
   },
   "file_extension": ".py",
   "mimetype": "text/x-python",
   "name": "python",
   "nbconvert_exporter": "python",
   "pygments_lexer": "ipython3",
   "version": "3.10.7"
  }
 },
 "nbformat": 4,
 "nbformat_minor": 5
}
