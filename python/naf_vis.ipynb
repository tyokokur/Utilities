{
 "cells": [
  {
   "cell_type": "code",
   "execution_count": 2,
   "id": "e5a16d61-cc5a-45e9-8a0f-07e5b6c48f01",
   "metadata": {},
   "outputs": [
    {
     "name": "stdout",
     "output_type": "stream",
     "text": [
      "tjy_udf:  ['CalcF', 'H_find', 'Heights', 'Kap_D', 'elread', 'get_fp', 'get_fs', 'git_sync', 'lighten_color', 'phread', 'phreadxyz', 'plot_anim', 'plot_pha', 'plot_pha_feed', 'ticks']\n"
     ]
    },
    {
     "data": {
      "text/plain": [
       "' If SSL error _ssl.c:997: \\n    pip install --upgrade certifi'"
      ]
     },
     "execution_count": 2,
     "metadata": {},
     "output_type": "execute_result"
    }
   ],
   "source": [
    "# Imports \n",
    "import numpy as np, pandas as pd, matplotlib.pyplot as plt, matplotlib as mpl\n",
    "import tjy_udf as tjy\n",
    "print(\"tjy_udf: \", list(filter(lambda x: '__' not in x, dir(tjy)))) # Print contained functions\n",
    "mpl.rc_file('tjy.mplstyle')\n",
    "\n",
    "pd.set_option('display.max_columns', 500)\n",
    "pd.set_option('display.width', 1000)\n",
    "pd.set_option('display.max_colwidth', None)\n",
    "DISPLAY_SORTED = True\n",
    "from matplotlib.lines import Line2D\n",
    "from matplotlib.patches import Patch\n",
    "from matplotlib import ticker\n",
    "from matplotlib.ticker import (AutoMinorLocator, MultipleLocator)\n",
    "from matplotlib import animation, rc\n",
    "    \n",
    "GIT = 'https://github.com/tyokokur/tmpdat/raw/main/naf/'\n",
    "''' If SSL error _ssl.c:997: \n",
    "    pip install --upgrade certifi'''"
   ]
  },
  {
   "cell_type": "code",
   "execution_count": 73,
   "id": "d9d79f49-4098-423e-8c54-40fb67f88e7c",
   "metadata": {},
   "outputs": [],
   "source": [
    "def Process(fname):\n",
    "    data = pd.read_csv(fname, names=np.arange(12), sep='\\s+')\n",
    "    thetas, nd = [], []\n",
    "    for i in range(len(data)):\n",
    "        if i%2: thetas += [data.iloc[i,5]] # Vol dens of block 2 adj. to surf\n",
    "        else:   nd += [data.iloc[i,:6].to_list()]\n",
    "    return pd.concat([pd.DataFrame(nd,  columns=['it', 'lx', 'free', 'freeDiff', 'inCompMax', 'andErr']), pd.Series(thetas, name='theta')], axis=1)\n",
    "\n",
    "lx30 = Process(GIT+'lx30.txt')\n",
    "lx35 = Process(GIT+'lx35.txt')\n",
    "lx40 = Process(GIT+'lx40.txt')\n",
    "lx45 = Process(GIT+'lx45.txt')\n",
    "lx50 = Process(GIT+'lx50.txt')\n",
    "lx55 = Process(GIT+'lx55.txt')\n",
    "lx60 = Process(GIT+'lx60.txt')\n",
    "lx65 = Process(GIT+'lx65.txt')\n",
    "lx70 = Process(GIT+'lx70.txt')"
   ]
  },
  {
   "cell_type": "code",
   "execution_count": null,
   "id": "25005e22-76c3-4b97-8256-96df1b222a2e",
   "metadata": {},
   "outputs": [],
   "source": [
    "lxs = [lx30, lx35, lx40, lx45, lx50, lx55, lx60]\n",
    "surfs = [0, 10, 25, 50, 75, 100, 150, 200]\n",
    "mcs = mpl.colormaps['magma'].resampled(10)(range(8,0,-1))[::-1]\n",
    "vcs = mpl.colormaps['viridis'].resampled(9)(range(7,0,-1))\n",
    "\n",
    "fig, ax = plt.subplots(1,2, figsize=(mpl.rcParams['figure.figsize'][0]*2, mpl.rcParams['figure.figsize'][1]))\n",
    "plt.subplots_adjust(wspace=0.3)\n",
    "# for i,c in zip(lxs, vcs):\n",
    "#     name = i.lx[0]\n",
    "#     ax[0].plot(surfs, i.theta, label=r'${}$'.format(name), color=c)\n",
    "    \n",
    "for ind,i in enumerate(surfs):\n",
    "    x = [i.lx[0] for i in lxs]\n",
    "    y = [i.free[ind] for i in lxs]\n",
    "    ax[1].plot(x, y, label='${}$'.format(i), color=mcs[ind])\n",
    "    \n",
    "    x = [i.lx[0] for i in lxs]\n",
    "    y = [i.theta[ind] for i in lxs]\n",
    "    ax[0].plot(x, y, label='${}$'.format(i), color=mcs[ind])\n",
    "    \n",
    "# ax[0].set(\n",
    "#     xlabel= r'$\\sigma^e\\ [\\mu C\\ cm^{-2}]$',\n",
    "#     ylabel= r'$\\phi_{\\mathrm{SO_3}}\\vert_{z=D}$',\n",
    "#     yscale= 'log',\n",
    "#     ylim= (1e-09, 1.0)\n",
    "# )\n",
    "# ax[0].text(1.15, 0.74, r'$D\\ [\\mathrm{nm}]$', transform=ax[0].transAxes, fontsize=16, ha='center')\n",
    "# ax[0].legend(loc=(1.05,0.15), ncol=1)\n",
    "\n",
    "ax[0].set(\n",
    "    xlabel= r'$D\\ [\\mathrm{nm}]$',\n",
    "    ylabel= r'$F\\ [k_\\mathrm{B}T\\ ]$', \n",
    ")\n",
    "ax[1].text(1.25, 0.74, r'$\\sigma^e\\ [\\mu C\\ cm^{-2}]$', transform=ax[1].transAxes, fontsize=16, ha='center')\n",
    "ax[1].legend(loc=(1.10,0.07), ncol=1)\n",
    "\n",
    "ax[1].set(\n",
    "    xlabel= r'$D\\ [\\mathrm{nm}]$',\n",
    "    ylabel= r'$F\\ [k_\\mathrm{B}T\\ ]$', \n",
    ")\n",
    "ax[1].text(1.25, 0.74, r'$\\sigma^e\\ [\\mu C\\ cm^{-2}]$', transform=ax[1].transAxes, fontsize=16, ha='center')\n",
    "ax[1].legend(loc=(1.10,0.07), ncol=1)\n",
    "tjy.ticks(ax)"
   ]
  }
 ],
 "metadata": {
  "kernelspec": {
   "display_name": "Python 3 (ipykernel)",
   "language": "python",
   "name": "python3"
  },
  "language_info": {
   "codemirror_mode": {
    "name": "ipython",
    "version": 3
   },
   "file_extension": ".py",
   "mimetype": "text/x-python",
   "name": "python",
   "nbconvert_exporter": "python",
   "pygments_lexer": "ipython3",
   "version": "3.10.7"
  }
 },
 "nbformat": 4,
 "nbformat_minor": 5
}
