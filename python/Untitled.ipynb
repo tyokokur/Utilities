{
 "cells": [
  {
   "cell_type": "code",
   "execution_count": 11,
   "id": "5448d26c-027b-4179-a718-b1a7fa3bd385",
   "metadata": {},
   "outputs": [],
   "source": [
    "import matplotlib as mpl\n",
    "import matplotlib.pyplot as plt\n",
    "import numpy as np"
   ]
  },
  {
   "cell_type": "code",
   "execution_count": 2,
   "id": "607965bb-6fcf-4267-93a1-b32be996cf95",
   "metadata": {},
   "outputs": [],
   "source": [
    "# Consts \n",
    "k1 = 10**(-1.47)\n",
    "k2 = 10**(-2.59)\n",
    "k3 = 10**(-3.76)\n",
    "k4 = 10**(-10.329)\n",
    "yppm = 415e-06"
   ]
  },
  {
   "cell_type": "code",
   "execution_count": 26,
   "id": "d558e35d-b41e-4b53-98dd-61afc04fffb7",
   "metadata": {},
   "outputs": [
    {
     "name": "stdout",
     "output_type": "stream",
     "text": [
      "xCO2 0.876, xHCO3 0.124, xCO3 1.83e-06\n"
     ]
    },
    {
     "data": {
      "text/plain": [
       "array([9.99999553e-01, 9.99999381e-01, 9.99999143e-01, 9.99998814e-01,\n",
       "       9.99998357e-01, 9.99997725e-01, 9.99996849e-01, 9.99995636e-01,\n",
       "       9.99993956e-01, 9.99991630e-01, 9.99988409e-01, 9.99983947e-01,\n",
       "       9.99977769e-01, 9.99969213e-01, 9.99957364e-01, 9.99940955e-01,\n",
       "       9.99918231e-01, 9.99886762e-01, 9.99843185e-01, 9.99782843e-01,\n",
       "       9.99699287e-01, 9.99583595e-01, 9.99423419e-01, 9.99201677e-01,\n",
       "       9.98894753e-01, 9.98470010e-01, 9.97882384e-01, 9.97069731e-01,\n",
       "       9.95946482e-01, 9.94395081e-01, 9.92254532e-01, 9.89305285e-01,\n",
       "       9.85249745e-01, 9.79687876e-01, 9.72088204e-01, 9.61756139e-01,\n",
       "       9.47804807e-01, 9.29138982e-01, 9.04470681e-01, 8.72394062e-01,\n",
       "       8.31552502e-01, 7.80921419e-01, 7.20192087e-01, 6.50168701e-01,\n",
       "       5.73009616e-01, 4.92123856e-01, 4.11645539e-01, 3.35627122e-01,\n",
       "       2.67265518e-01, 2.08454007e-01, 1.59756505e-01, 1.20694354e-01,\n",
       "       9.01517794e-02, 6.67444483e-02, 4.90794987e-02, 3.59024706e-02,\n",
       "       2.61582920e-02, 1.89989139e-02, 1.37635652e-02, 9.94848125e-03,\n",
       "       7.17547011e-03, 5.16371632e-03, 3.70634896e-03, 2.65183974e-03,\n",
       "       1.88966219e-03, 1.33944977e-03, 9.42906345e-04, 6.57822326e-04,\n",
       "       4.53670904e-04, 3.08374036e-04, 2.05928486e-04, 1.34667207e-04,\n",
       "       8.60003119e-05, 5.35289466e-05, 3.24497733e-05, 1.91708570e-05,\n",
       "       1.10582482e-05, 6.24512756e-06, 3.46416969e-06, 1.89354035e-06,\n",
       "       1.02300425e-06, 5.47699936e-07, 2.91210425e-07, 1.54033724e-07,\n",
       "       8.11610435e-08, 4.26424465e-08, 2.23577988e-08, 1.17045070e-08,\n",
       "       6.12060854e-09, 3.19805188e-09, 1.67002186e-09, 8.71715253e-10,\n",
       "       4.54876865e-10, 2.37310335e-10, 1.23785497e-10, 6.45613363e-11,\n",
       "       3.36696705e-11, 1.75581572e-11, 9.15587827e-12, 4.77427436e-12])"
      ]
     },
     "execution_count": 26,
     "metadata": {},
     "output_type": "execute_result"
    }
   ],
   "source": [
    "# Eq Consts Only\n",
    "ph = 5.5 # Avoid if possible\n",
    "cb = k1 * yppm * 1\n",
    "cd = k2 * cb\n",
    "ce = 10**(-ph)\n",
    "cf = k3 * cd / ce\n",
    "cg = k4 * cf / ce\n",
    "ct = cb + cf + cg\n",
    "print('xCO2 {:.3g}, xHCO3 {:.3g}, xCO3 {:.3g}'.format(cb/ct, cf/ct, cg/ct))\n",
    "\n",
    "## functionalized\n",
    "def phK(pH): \n",
    "    global k1, k2, k3, k4, yppm\n",
    "    cb = k1 * yppm * 1\n",
    "    cd = k2 * cb\n",
    "    ce = 10**(-pH)\n",
    "    cf = k3 * cd / ce\n",
    "    cg = k4 * cf / ce\n",
    "    ct = cb + cf + cg\n",
    "    xs = [cb/ct, cf/ct, cg/ct]\n",
    "    return xs\n",
    "\n",
    "phs = np.linspace(0, 14, 100)\n",
    "plt.plot(phs"
   ]
  }
 ],
 "metadata": {
  "kernelspec": {
   "display_name": "Python 3 (ipykernel)",
   "language": "python",
   "name": "python3"
  },
  "language_info": {
   "codemirror_mode": {
    "name": "ipython",
    "version": 3
   },
   "file_extension": ".py",
   "mimetype": "text/x-python",
   "name": "python",
   "nbconvert_exporter": "python",
   "pygments_lexer": "ipython3",
   "version": "3.10.7"
  }
 },
 "nbformat": 4,
 "nbformat_minor": 5
}
