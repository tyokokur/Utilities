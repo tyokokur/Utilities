{
 "cells": [
  {
   "cell_type": "code",
   "execution_count": 2,
   "id": "607965bb-6fcf-4267-93a1-b32be996cf95",
   "metadata": {},
   "outputs": [],
   "source": [
    "# Consts \n",
    "k1 = 10**(-1.47)\n",
    "k2 = 10**(-2.59)\n",
    "k3 = 10**(-3.76)\n",
    "k4 = 10**(-10.329)\n",
    "yppm = 415e-06"
   ]
  },
  {
   "cell_type": "code",
   "execution_count": 3,
   "id": "d558e35d-b41e-4b53-98dd-61afc04fffb7",
   "metadata": {},
   "outputs": [
    {
     "name": "stdout",
     "output_type": "stream",
     "text": [
      "1.78715e-02, 9.82114e-01, 1.45600e-05\n"
     ]
    }
   ],
   "source": [
    "# Eq Consts Only\n",
    "ph = 5.5 # Avoid if possible\n",
    "cb = k1 * yppm * 1\n",
    "cd = k2 * cb\n",
    "ce = 10**(-ph)\n",
    "cf = k3 * cd / ce\n",
    "cg = k4 * cf / ce\n",
    "\n",
    "ct = cd + cf + cg\n",
    "print('{:.5e}, {:.5e}, {:.5e}'.format(cd/ct, cf/ct, cg/ct))"
   ]
  }
 ],
 "metadata": {
  "kernelspec": {
   "display_name": "Python 3 (ipykernel)",
   "language": "python",
   "name": "python3"
  },
  "language_info": {
   "codemirror_mode": {
    "name": "ipython",
    "version": 3
   },
   "file_extension": ".py",
   "mimetype": "text/x-python",
   "name": "python",
   "nbconvert_exporter": "python",
   "pygments_lexer": "ipython3",
   "version": "3.10.7"
  }
 },
 "nbformat": 4,
 "nbformat_minor": 5
}
