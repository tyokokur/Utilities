{
 "cells": [
  {
   "cell_type": "code",
   "execution_count": null,
   "id": "607965bb-6fcf-4267-93a1-b32be996cf95",
   "metadata": {},
   "outputs": [],
   "source": [
    "# Consts \n",
    "k1 = 10**(-1.47)\n",
    "k2 = 10**(-2.59)\n",
    "k3 = 10**(-3.76)\n",
    "k4 = 10**(-=10/32"
   ]
  }
 ],
 "metadata": {
  "kernelspec": {
   "display_name": "Python 3 (ipykernel)",
   "language": "python",
   "name": "python3"
  },
  "language_info": {
   "codemirror_mode": {
    "name": "ipython",
    "version": 3
   },
   "file_extension": ".py",
   "mimetype": "text/x-python",
   "name": "python",
   "nbconvert_exporter": "python",
   "pygments_lexer": "ipython3",
   "version": "3.10.7"
  }
 },
 "nbformat": 4,
 "nbformat_minor": 5
}
